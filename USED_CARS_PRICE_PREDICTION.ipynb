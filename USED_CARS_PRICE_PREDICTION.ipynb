{
  "nbformat": 4,
  "nbformat_minor": 0,
  "metadata": {
    "colab": {
      "name": "USED_CARS_PRICE_PREDICTION.ipynb",
      "provenance": [],
      "collapsed_sections": [],
      "authorship_tag": "ABX9TyN2GXN/EPRat5bbvnX46coH",
      "include_colab_link": true
    },
    "kernelspec": {
      "name": "python3",
      "display_name": "Python 3"
    },
    "language_info": {
      "name": "python"
    }
  },
  "cells": [
    {
      "cell_type": "markdown",
      "metadata": {
        "id": "view-in-github",
        "colab_type": "text"
      },
      "source": [
        "<a href=\"https://colab.research.google.com/github/1989HIM/Used-Car-Price-Prediction/blob/main/USED_CARS_PRICE_PREDICTION.ipynb\" target=\"_parent\"><img src=\"https://colab.research.google.com/assets/colab-badge.svg\" alt=\"Open In Colab\"/></a>"
      ]
    },
    {
      "cell_type": "code",
      "metadata": {
        "colab": {
          "base_uri": "https://localhost:8080/"
        },
        "id": "Fjq7H8jJ19Az",
        "outputId": "78802adf-036b-4ea3-ceee-eece254cd488"
      },
      "source": [
        "from google.colab import drive;\n",
        "drive.mount('/content/drive/')"
      ],
      "execution_count": null,
      "outputs": [
        {
          "output_type": "stream",
          "text": [
            "Drive already mounted at /content/drive/; to attempt to forcibly remount, call drive.mount(\"/content/drive/\", force_remount=True).\n"
          ],
          "name": "stdout"
        }
      ]
    },
    {
      "cell_type": "code",
      "metadata": {
        "id": "1lgMEIHA2GKg"
      },
      "source": [
        "import pandas as pd\n",
        "import numpy as np\n",
        "import matplotlib.pyplot as plt\n",
        "%matplotlib inline\n",
        "import seaborn as sns\n",
        "import warnings\n",
        "warnings.filterwarnings('ignore')\n",
        "from scipy import stats\n",
        "import missingno\n",
        "from sklearn.preprocessing import LabelEncoder\n",
        "from sklearn.model_selection import train_test_split\n",
        "from sklearn.ensemble import RandomForestClassifier,RandomForestRegressor,AdaBoostRegressor,BaggingRegressor,ExtraTreesRegressor,GradientBoostingRegressor,StackingRegressor,VotingRegressor\n",
        "from sklearn.metrics import f1_score,mean_squared_error,r2_score,mean_absolute_error\n",
        "from sklearn.neighbors import KNeighborsClassifier,KNeighborsRegressor\n",
        "from sklearn.preprocessing import StandardScaler,MinMaxScaler\n",
        "from sklearn.linear_model import LinearRegression,Ridge,Lasso,SGDRegressor\n",
        "import xgboost as xgb\n",
        "from sklearn.svm import SVR"
      ],
      "execution_count": null,
      "outputs": []
    },
    {
      "cell_type": "code",
      "metadata": {
        "colab": {
          "base_uri": "https://localhost:8080/",
          "height": 128
        },
        "id": "CiCJMWPo2Rnp",
        "outputId": "e4fd7121-4211-4fd5-a174-6c13e8a4e7ab"
      },
      "source": [
        "data=pd.read_csv('drive/MyDrive/CAR_PRICE_PREDICTION/data.csv')\n",
        "data.head(2)"
      ],
      "execution_count": null,
      "outputs": [
        {
          "output_type": "execute_result",
          "data": {
            "text/html": [
              "<div>\n",
              "<style scoped>\n",
              "    .dataframe tbody tr th:only-of-type {\n",
              "        vertical-align: middle;\n",
              "    }\n",
              "\n",
              "    .dataframe tbody tr th {\n",
              "        vertical-align: top;\n",
              "    }\n",
              "\n",
              "    .dataframe thead th {\n",
              "        text-align: right;\n",
              "    }\n",
              "</style>\n",
              "<table border=\"1\" class=\"dataframe\">\n",
              "  <thead>\n",
              "    <tr style=\"text-align: right;\">\n",
              "      <th></th>\n",
              "      <th>name</th>\n",
              "      <th>year</th>\n",
              "      <th>selling_price</th>\n",
              "      <th>km_driven</th>\n",
              "      <th>fuel</th>\n",
              "      <th>seller_type</th>\n",
              "      <th>transmission</th>\n",
              "      <th>owner</th>\n",
              "      <th>mileage</th>\n",
              "      <th>engine</th>\n",
              "      <th>max_power</th>\n",
              "      <th>seats</th>\n",
              "      <th>torque</th>\n",
              "      <th>rpm</th>\n",
              "    </tr>\n",
              "  </thead>\n",
              "  <tbody>\n",
              "    <tr>\n",
              "      <th>0</th>\n",
              "      <td>Maruti Swift Dzire VDI</td>\n",
              "      <td>2014</td>\n",
              "      <td>450000</td>\n",
              "      <td>145500</td>\n",
              "      <td>Diesel</td>\n",
              "      <td>Individual</td>\n",
              "      <td>Manual</td>\n",
              "      <td>First Owner</td>\n",
              "      <td>23.40</td>\n",
              "      <td>1248.0</td>\n",
              "      <td>74.00</td>\n",
              "      <td>5.0</td>\n",
              "      <td>190.0</td>\n",
              "      <td>1000.0</td>\n",
              "    </tr>\n",
              "    <tr>\n",
              "      <th>1</th>\n",
              "      <td>Skoda Rapid 1.5 TDI Ambition</td>\n",
              "      <td>2014</td>\n",
              "      <td>370000</td>\n",
              "      <td>120000</td>\n",
              "      <td>Diesel</td>\n",
              "      <td>Individual</td>\n",
              "      <td>Manual</td>\n",
              "      <td>Second Owner</td>\n",
              "      <td>21.14</td>\n",
              "      <td>1498.0</td>\n",
              "      <td>103.52</td>\n",
              "      <td>5.0</td>\n",
              "      <td>250.0</td>\n",
              "      <td>2000.0</td>\n",
              "    </tr>\n",
              "  </tbody>\n",
              "</table>\n",
              "</div>"
            ],
            "text/plain": [
              "                           name  year  selling_price  ...  seats torque     rpm\n",
              "0        Maruti Swift Dzire VDI  2014         450000  ...    5.0  190.0  1000.0\n",
              "1  Skoda Rapid 1.5 TDI Ambition  2014         370000  ...    5.0  250.0  2000.0\n",
              "\n",
              "[2 rows x 14 columns]"
            ]
          },
          "metadata": {
            "tags": []
          },
          "execution_count": 169
        }
      ]
    },
    {
      "cell_type": "code",
      "metadata": {
        "colab": {
          "base_uri": "https://localhost:8080/"
        },
        "id": "QJEelO5m2UpZ",
        "outputId": "f254cfdd-a009-4b43-e204-92cdbd89eb88"
      },
      "source": [
        "data.shape"
      ],
      "execution_count": null,
      "outputs": [
        {
          "output_type": "execute_result",
          "data": {
            "text/plain": [
              "(8128, 14)"
            ]
          },
          "metadata": {
            "tags": []
          },
          "execution_count": 170
        }
      ]
    },
    {
      "cell_type": "markdown",
      "metadata": {
        "id": "5BSAz9cg4y45"
      },
      "source": [
        "#### <b>MISSING VALUES ANALYSIS</b>\n",
        "\n"
      ]
    },
    {
      "cell_type": "code",
      "metadata": {
        "colab": {
          "base_uri": "https://localhost:8080/"
        },
        "id": "LWWpwiDK2fN3",
        "outputId": "529bf78b-d838-4419-8aea-2cd56a7343bf"
      },
      "source": [
        "data.replace(0,np.nan,inplace=True)\n",
        "miss_per=round(data.isna().sum()*100/len(data),2)\n",
        "print(f\"{'Feature':{15}}{'Missing %'}\\n{'='*25}\")\n",
        "print(miss_per)"
      ],
      "execution_count": null,
      "outputs": [
        {
          "output_type": "stream",
          "text": [
            "Feature        Missing %\n",
            "=========================\n",
            "name             0.00\n",
            "year             0.00\n",
            "selling_price    0.00\n",
            "km_driven        0.00\n",
            "fuel             0.00\n",
            "seller_type      0.00\n",
            "transmission     0.00\n",
            "owner            0.00\n",
            "mileage          2.93\n",
            "engine           2.72\n",
            "max_power        2.72\n",
            "seats            2.72\n",
            "torque           2.73\n",
            "rpm              5.41\n",
            "dtype: float64\n"
          ],
          "name": "stdout"
        }
      ]
    },
    {
      "cell_type": "code",
      "metadata": {
        "colab": {
          "base_uri": "https://localhost:8080/",
          "height": 394
        },
        "id": "qgC7Tbyq8Ekj",
        "outputId": "88b6613f-ad46-4d13-b59e-f01e5bdb3a70"
      },
      "source": [
        "missingno.bar(data,log=True,figsize=(15,5),fontsize=10)\n",
        "plt.show()"
      ],
      "execution_count": null,
      "outputs": [
        {
          "output_type": "display_data",
          "data": {
            "image/png": "[encoded data removed]",
            "text/plain": [
              "<Figure size 1080x360 with 3 Axes>"
            ]
          },
          "metadata": {
            "tags": [],
            "needs_background": "light"
          }
        }
      ]
    },
    {
      "cell_type": "code",
      "metadata": {
        "colab": {
          "base_uri": "https://localhost:8080/",
          "height": 565
        },
        "id": "u1rxbDDN4cDA",
        "outputId": "22007a0f-5f14-4796-f69b-7079e5407e94"
      },
      "source": [
        "missingno.matrix(data,fontsize=14)\n",
        "plt.show()"
      ],
      "execution_count": null,
      "outputs": [
        {
          "output_type": "display_data",
          "data": {
            "image/png": "[encoded data removed]",
            "text/plain": [
              "<Figure size 1800x720 with 2 Axes>"
            ]
          },
          "metadata": {
            "tags": [],
            "needs_background": "light"
          }
        }
      ]
    },
    {
      "cell_type": "markdown",
      "metadata": {
        "id": "TytE1vNdN-aX"
      },
      "source": [
        "#### <b>Summary:-</b><br>\n",
        "- From the missing values pattern, it appears that the level of missingness is construct level which is generally referred when a case/example is partially filled. \n",
        "- Although, the column wise missing value percentage ranges from 2-5 % but row wise percentage is about 42 %, which is very high.\n",
        "- **Rpm** contains 5.41% of missing values and removing these missing values row wise will result in significant loss of data. The original dataset (i.e before cleaning) has a **torque** feature in which the values are like 190Nm @ 500 rpm.That feature was splitted into two features i.e. torque and rpm."
      ]
    },
    {
      "cell_type": "markdown",
      "metadata": {
        "id": "A64K4ryCj3ZA"
      },
      "source": [
        "#### <b>Handling Missing Values</b>\n",
        "- **Rpm** feature can be dropped as it doesn't show any correlation with selling price.\n",
        "- For other features with missing values, we need to focus on the following question:-\n",
        "  - Is missingness low enough to delete ?\n",
        "  - Is ignoring missing data worth it ?\n",
        "  - Is the impact of missing values features,if included, significant in final prediction?\n"
      ]
    },
    {
      "cell_type": "code",
      "metadata": {
        "colab": {
          "base_uri": "https://localhost:8080/"
        },
        "id": "XYD_cj6jeJVI",
        "outputId": "18911fb4-e2a5-4c01-e36f-1ad5a08034a6"
      },
      "source": [
        "data1=data.dropna()\n",
        "round((data.shape[0]-data1.shape[0])*100/data.shape[0],2)"
      ],
      "execution_count": null,
      "outputs": [
        {
          "output_type": "execute_result",
          "data": {
            "text/plain": [
              "5.62"
            ]
          },
          "metadata": {
            "tags": []
          },
          "execution_count": 174
        }
      ]
    },
    {
      "cell_type": "markdown",
      "metadata": {
        "id": "6g3w6p9hq2Z5"
      },
      "source": [
        "- Removing all the missing value cases, shrinks the dataset by **5.62 %**"
      ]
    },
    {
      "cell_type": "code",
      "metadata": {
        "id": "Jwp-eR0es7oh",
        "colab": {
          "base_uri": "https://localhost:8080/"
        },
        "outputId": "c592f6e3-015e-4e38-c6f3-40c4bd6180a8"
      },
      "source": [
        "# Splitting the dataset on the basis of valid and missing value cases\n",
        "data_temp=data.fillna(-1)\n",
        "data_valid=data_temp[data_temp['mileage']!=-1]\n",
        "data_miss=data_temp[data_temp['mileage']==-1]\n",
        "print(data_valid.shape)\n",
        "print(data_miss.shape)"
      ],
      "execution_count": null,
      "outputs": [
        {
          "output_type": "stream",
          "text": [
            "(7890, 14)\n",
            "(238, 14)\n"
          ],
          "name": "stdout"
        }
      ]
    },
    {
      "cell_type": "markdown",
      "metadata": {
        "id": "u9U7stcssZGP"
      },
      "source": [
        "**Analyzing the difference in the distribution of selling price corresponding to valid and missing data**\n",
        "- Is the difference significant ?\n",
        "- Will removal of all the cases with missing data leads to biased results ?"
      ]
    },
    {
      "cell_type": "code",
      "metadata": {
        "colab": {
          "base_uri": "https://localhost:8080/",
          "height": 279
        },
        "id": "18mkmx2KplgF",
        "outputId": "c231b0c4-d61c-437e-f7fc-3d1e31331db3"
      },
      "source": [
        "sns.distplot(np.log(data_valid['selling_price']),kde_kws = {'shade': True, 'linewidth': 3},label='Valid_values')\n",
        "sns.distplot(np.log(data_miss['selling_price']),kde_kws = {'shade': True, 'linewidth': 3},label='Missing_values')\n",
        "plt.yticks([])\n",
        "plt.xticks([])\n",
        "plt.title('Log (Selling_Price)')\n",
        "plt.legend()\n",
        "plt.show()"
      ],
      "execution_count": null,
      "outputs": [
        {
          "output_type": "display_data",
          "data": {
            "image/png": "[encoded data removed]",
            "text/plain": [
              "<Figure size 432x288 with 1 Axes>"
            ]
          },
          "metadata": {
            "tags": []
          }
        }
      ]
    },
    {
      "cell_type": "markdown",
      "metadata": {
        "id": "jB9evZEd15qO"
      },
      "source": [
        "- By visualizing the log of selling price corrosponding to valid and missing values, it appears that there is a difference in the distribution.\n",
        "- We need to determine whether this difference is significant or not by a statistical method.\n",
        "- If the difference is significant i.e. p-value < alpha, then missingness can be classified as **Missing At Random (MAR)** otherwise **Missing Completely At Random (MCAR)**."
      ]
    },
    {
      "cell_type": "markdown",
      "metadata": {
        "id": "VtlBQDOs3Qf9"
      },
      "source": [
        "##### **Statistical Analysis for distribution:-**</br>\n",
        "- We can perform t-test to check the difference in the distribution **BUT** t-test requires an assumption that data needs to be normally distributed.\n",
        "- To check the normality assumption we can perform **Shapiro-Wilk** test in which :</br> Ho : Data is normally distributed</br> Ha : Data isn't normally distributed"
      ]
    },
    {
      "cell_type": "code",
      "metadata": {
        "colab": {
          "base_uri": "https://localhost:8080/"
        },
        "id": "DRTj-_iE4dOW",
        "outputId": "d5b0dcf4-96e3-412d-f768-6182c67bc1fd"
      },
      "source": [
        "print(stats.shapiro(data_valid['selling_price']))\n",
        "print(stats.shapiro(data_miss['selling_price']))\n",
        "print('\\n')\n",
        "print(stats.shapiro(np.log(data_valid['selling_price'])))\n",
        "print(stats.shapiro(np.log(data_miss['selling_price'])))"
      ],
      "execution_count": null,
      "outputs": [
        {
          "output_type": "stream",
          "text": [
            "(0.5374230742454529, 0.0)\n",
            "(0.49056923389434814, 1.18300453293676e-25)\n",
            "\n",
            "\n",
            "(0.9778522253036499, 2.855246023446581e-33)\n",
            "(0.9783357381820679, 0.0010500450152903795)\n"
          ],
          "name": "stdout"
        }
      ]
    },
    {
      "cell_type": "markdown",
      "metadata": {
        "id": "VtwR_pUw5EMz"
      },
      "source": [
        "- The p-values in both Log and without Log of data is close to zero.Thus rejecting the null hypothesis.Therefore can't perform t-test.\n",
        "- Let's try **kolmogorov-smirnov test** which checks the null hypothesis that two samples come from the same distribution"
      ]
    },
    {
      "cell_type": "code",
      "metadata": {
        "id": "BYoyYh6Z6UUy",
        "colab": {
          "base_uri": "https://localhost:8080/"
        },
        "outputId": "4bcd49df-ae8b-4bb9-bb3f-1bdd7bae1da1"
      },
      "source": [
        "# kolmogorov-smirnov test \n",
        "stats.ks_2samp(data_valid['selling_price'],data_miss['selling_price'])"
      ],
      "execution_count": null,
      "outputs": [
        {
          "output_type": "execute_result",
          "data": {
            "text/plain": [
              "Ks_2sampResult(statistic=0.4674324482644769, pvalue=2.856318891836063e-44)"
            ]
          },
          "metadata": {
            "tags": []
          },
          "execution_count": 178
        }
      ]
    },
    {
      "cell_type": "markdown",
      "metadata": {
        "id": "bMhxfSi96cZ8"
      },
      "source": [
        "- **The pvalue is almost negligible, giving us strong evidence for rejecting the null hypothesis i.e. distributions are not from same sample** <br>"
      ]
    },
    {
      "cell_type": "markdown",
      "metadata": {
        "id": "bSuOVjDzNuOy"
      },
      "source": [
        "##### **SKEWNESS & KURTOSIS COMPARISION OF FEATURES**\n"
      ]
    },
    {
      "cell_type": "code",
      "metadata": {
        "id": "7O0eEPyNpzba",
        "colab": {
          "base_uri": "https://localhost:8080/"
        },
        "outputId": "3025efaa-b9d8-47df-b924-5c710ff2f255"
      },
      "source": [
        "print('SKEWNESS','Valid'.rjust(13),'Missing'.rjust(13),\\\n",
        "      'KURTOSIS'.rjust(15),'Valid'.rjust(13),'Missing'.rjust(13),'\\n','='*80)\n",
        "columns=['selling_price', 'km_driven', 'mileage', 'engine', 'max_power', 'seats',\n",
        "       'torque']\n",
        "for i in columns:\n",
        "    print(f'{i:{15}}{round(data_valid[i].skew(),2):{7}}{round(data_miss[i].skew(),2):{12}}\\\n",
        "          {i:{15}}{round(data_valid[i].kurtosis(),2):{7}}{round(data_miss[i].kurtosis(),2):{12}}')"
      ],
      "execution_count": null,
      "outputs": [
        {
          "output_type": "stream",
          "text": [
            "SKEWNESS         Valid       Missing        KURTOSIS         Valid       Missing \n",
            " ================================================================================\n",
            "selling_price     4.16        5.24          selling_price    20.69       34.75\n",
            "km_driven        11.35        0.85          km_driven       388.55        1.85\n",
            "mileage           0.07           0          mileage          -0.33           0\n",
            "engine            1.13        4.48          engine            0.73        21.0\n",
            "max_power         1.64        4.68          max_power         3.81       24.04\n",
            "seats             1.98        3.48          seats             3.78       10.32\n",
            "torque            75.3        5.87          torque         6177.22       37.32\n"
          ],
          "name": "stdout"
        }
      ]
    },
    {
      "cell_type": "markdown",
      "metadata": {
        "id": "e_v4ODhCQtbt"
      },
      "source": [
        "##### **Summary:**\n",
        "- Since the data is skewed, we can't perform t-test as normality assumption is violated.\n",
        "- From kolmogorov-smirnov test, we infer that removing all the cases with missing values can create some biasedness in prediction.\n",
        "- Removing all the missing value cases,even though percentage looks small, might not be beneficial.\n",
        "- Therefore, we need imputation strategies for missing values in mileage,engine,max_power,seats and torque."
      ]
    },
    {
      "cell_type": "code",
      "metadata": {
        "id": "CuTlpLysYumi"
      },
      "source": [
        "# Creating a new feature years_old and Dropping name and rpm.\n",
        "import datetime\n",
        "current_date=datetime.datetime.now()\n",
        "data['years_old']=data['year'].apply(lambda x:current_date.year-x)\n",
        "data1=data.drop(['name','year','rpm'],axis=1)"
      ],
      "execution_count": null,
      "outputs": []
    },
    {
      "cell_type": "code",
      "metadata": {
        "colab": {
          "base_uri": "https://localhost:8080/",
          "height": 204
        },
        "id": "5yrifMsKvYUc",
        "outputId": "7e2610dc-49d3-44d9-f8cc-0eabb49eef9a"
      },
      "source": [
        "data1.head()"
      ],
      "execution_count": null,
      "outputs": [
        {
          "output_type": "execute_result",
          "data": {
            "text/html": [
              "<div>\n",
              "<style scoped>\n",
              "    .dataframe tbody tr th:only-of-type {\n",
              "        vertical-align: middle;\n",
              "    }\n",
              "\n",
              "    .dataframe tbody tr th {\n",
              "        vertical-align: top;\n",
              "    }\n",
              "\n",
              "    .dataframe thead th {\n",
              "        text-align: right;\n",
              "    }\n",
              "</style>\n",
              "<table border=\"1\" class=\"dataframe\">\n",
              "  <thead>\n",
              "    <tr style=\"text-align: right;\">\n",
              "      <th></th>\n",
              "      <th>selling_price</th>\n",
              "      <th>km_driven</th>\n",
              "      <th>fuel</th>\n",
              "      <th>seller_type</th>\n",
              "      <th>transmission</th>\n",
              "      <th>owner</th>\n",
              "      <th>mileage</th>\n",
              "      <th>engine</th>\n",
              "      <th>max_power</th>\n",
              "      <th>seats</th>\n",
              "      <th>torque</th>\n",
              "      <th>years_old</th>\n",
              "    </tr>\n",
              "  </thead>\n",
              "  <tbody>\n",
              "    <tr>\n",
              "      <th>0</th>\n",
              "      <td>450000</td>\n",
              "      <td>145500</td>\n",
              "      <td>Diesel</td>\n",
              "      <td>Individual</td>\n",
              "      <td>Manual</td>\n",
              "      <td>First Owner</td>\n",
              "      <td>23.40</td>\n",
              "      <td>1248.0</td>\n",
              "      <td>74.00</td>\n",
              "      <td>5.0</td>\n",
              "      <td>190.0</td>\n",
              "      <td>7</td>\n",
              "    </tr>\n",
              "    <tr>\n",
              "      <th>1</th>\n",
              "      <td>370000</td>\n",
              "      <td>120000</td>\n",
              "      <td>Diesel</td>\n",
              "      <td>Individual</td>\n",
              "      <td>Manual</td>\n",
              "      <td>Second Owner</td>\n",
              "      <td>21.14</td>\n",
              "      <td>1498.0</td>\n",
              "      <td>103.52</td>\n",
              "      <td>5.0</td>\n",
              "      <td>250.0</td>\n",
              "      <td>7</td>\n",
              "    </tr>\n",
              "    <tr>\n",
              "      <th>2</th>\n",
              "      <td>158000</td>\n",
              "      <td>140000</td>\n",
              "      <td>Petrol</td>\n",
              "      <td>Individual</td>\n",
              "      <td>Manual</td>\n",
              "      <td>Third Owner</td>\n",
              "      <td>17.70</td>\n",
              "      <td>1497.0</td>\n",
              "      <td>78.00</td>\n",
              "      <td>5.0</td>\n",
              "      <td>12.7</td>\n",
              "      <td>15</td>\n",
              "    </tr>\n",
              "    <tr>\n",
              "      <th>3</th>\n",
              "      <td>225000</td>\n",
              "      <td>127000</td>\n",
              "      <td>Diesel</td>\n",
              "      <td>Individual</td>\n",
              "      <td>Manual</td>\n",
              "      <td>First Owner</td>\n",
              "      <td>23.00</td>\n",
              "      <td>1396.0</td>\n",
              "      <td>90.00</td>\n",
              "      <td>5.0</td>\n",
              "      <td>22.4</td>\n",
              "      <td>11</td>\n",
              "    </tr>\n",
              "    <tr>\n",
              "      <th>4</th>\n",
              "      <td>130000</td>\n",
              "      <td>120000</td>\n",
              "      <td>Petrol</td>\n",
              "      <td>Individual</td>\n",
              "      <td>Manual</td>\n",
              "      <td>First Owner</td>\n",
              "      <td>16.10</td>\n",
              "      <td>1298.0</td>\n",
              "      <td>88.20</td>\n",
              "      <td>5.0</td>\n",
              "      <td>11.5</td>\n",
              "      <td>14</td>\n",
              "    </tr>\n",
              "  </tbody>\n",
              "</table>\n",
              "</div>"
            ],
            "text/plain": [
              "   selling_price  km_driven    fuel  ... seats torque years_old\n",
              "0         450000     145500  Diesel  ...   5.0  190.0         7\n",
              "1         370000     120000  Diesel  ...   5.0  250.0         7\n",
              "2         158000     140000  Petrol  ...   5.0   12.7        15\n",
              "3         225000     127000  Diesel  ...   5.0   22.4        11\n",
              "4         130000     120000  Petrol  ...   5.0   11.5        14\n",
              "\n",
              "[5 rows x 12 columns]"
            ]
          },
          "metadata": {
            "tags": []
          },
          "execution_count": 181
        }
      ]
    },
    {
      "cell_type": "code",
      "metadata": {
        "colab": {
          "base_uri": "https://localhost:8080/"
        },
        "id": "fwXlrrASbWoG",
        "outputId": "200b05ec-107b-4298-a5c2-767c4892b4c8"
      },
      "source": [
        "data1.seller_type.unique()"
      ],
      "execution_count": null,
      "outputs": [
        {
          "output_type": "execute_result",
          "data": {
            "text/plain": [
              "array(['Individual', 'Dealer', 'Trustmark Dealer'], dtype=object)"
            ]
          },
          "metadata": {
            "tags": []
          },
          "execution_count": 182
        }
      ]
    },
    {
      "cell_type": "markdown",
      "metadata": {
        "id": "SjDPk29M67m5"
      },
      "source": [
        "#### **HEATMAP**"
      ]
    },
    {
      "cell_type": "code",
      "metadata": {
        "id": "ZspfYIik9hWw",
        "colab": {
          "base_uri": "https://localhost:8080/",
          "height": 325
        },
        "outputId": "9edb25f8-264f-486a-a9c4-0b9aff5ffac0"
      },
      "source": [
        "plt.figure(figsize=(15,5))\n",
        "sns.heatmap(data1.corr(),annot=True,fmt='.2g')\n",
        "plt.show()"
      ],
      "execution_count": null,
      "outputs": [
        {
          "output_type": "display_data",
          "data": {
            "image/png": "[encoded data removed]",
            "text/plain": [
              "<Figure size 1080x360 with 2 Axes>"
            ]
          },
          "metadata": {
            "tags": [],
            "needs_background": "light"
          }
        }
      ]
    },
    {
      "cell_type": "markdown",
      "metadata": {
        "id": "ahJJGZhH7LmS"
      },
      "source": [
        "#### **MISSING VALUES IMPUTATION STRATEGY:**</br>\n",
        "- Missing values are present in **mileage,engine,max_power,seats,torque and rpm.**\n",
        "- First, we will split dataset into two parts i.e one with complete cases and another with incomplete cases.\n",
        "- Then Complete cases will be used for training purpose to impute the values into incomplete cases.\n",
        "- The **max_power** has strong positive correlation of 0.75 with selling price, 0.7 with engine and negative correlation with mileage and years_old.\n"
      ]
    },
    {
      "cell_type": "code",
      "metadata": {
        "colab": {
          "base_uri": "https://localhost:8080/"
        },
        "id": "Ar7HWBRYhx8X",
        "outputId": "73b20fb5-e0ee-4954-a533-56646eb04e51"
      },
      "source": [
        "data_temp=data1.fillna(-1)\n",
        "data_valid=data_temp[data_temp['mileage']!=-1]\n",
        "data_miss=data_temp[data_temp['mileage']==-1]\n",
        "print(data_valid.shape)\n",
        "print(data_miss.shape)"
      ],
      "execution_count": null,
      "outputs": [
        {
          "output_type": "stream",
          "text": [
            "(7890, 12)\n",
            "(238, 12)\n"
          ],
          "name": "stdout"
        }
      ]
    },
    {
      "cell_type": "markdown",
      "metadata": {
        "id": "oY05-EXrd4s9"
      },
      "source": [
        "##### **1) Max_power**</br>\n",
        "Max power has strong positive correlation of 0.75 with **selling price** and negative correlation with **years_old**. (#these are complete features)"
      ]
    },
    {
      "cell_type": "code",
      "metadata": {
        "id": "VO3IbrN7p08F",
        "colab": {
          "base_uri": "https://localhost:8080/"
        },
        "outputId": "4c9e11ae-7fbc-4c41-a6d9-7c611afba778"
      },
      "source": [
        "X=data_valid[['selling_price','years_old']]\n",
        "y=data_valid['max_power']\n",
        "rf=RandomForestRegressor(n_estimators=50)\n",
        "rf.fit(X,y)\n",
        "y_pred=rf.predict(X)\n",
        "print('R2_score =',round(rf.score(X,y),2))\n",
        "print('RMSE =',round(np.sqrt(mean_squared_error(y_pred,y)),2))\n",
        "#imputing max_power missing values\n",
        "max_pow_miss=rf.predict(data_miss[['selling_price','years_old']])\n",
        "data_miss['max_power']=max_pow_miss"
      ],
      "execution_count": null,
      "outputs": [
        {
          "output_type": "stream",
          "text": [
            "R2_score = 0.86\n",
            "RMSE = 13.49\n"
          ],
          "name": "stdout"
        }
      ]
    },
    {
      "cell_type": "markdown",
      "metadata": {
        "id": "AG32vKXOi4V2"
      },
      "source": [
        "##### **2) Engine**</br>\n"
      ]
    },
    {
      "cell_type": "code",
      "metadata": {
        "colab": {
          "base_uri": "https://localhost:8080/"
        },
        "id": "QumSJCSOfPRO",
        "outputId": "b9795802-9d16-4620-8fc6-6253c8737761"
      },
      "source": [
        "X=data_valid[['selling_price','max_power','km_driven']]\n",
        "y=data_valid['engine']\n",
        "rf=RandomForestClassifier(n_estimators=50)\n",
        "rf.fit(X,y)\n",
        "y_pred=rf.predict(X)\n",
        "print('R2_score =',round(rf.score(X,y),2))\n",
        "print('RMSE =',round(np.sqrt(mean_squared_error(y_pred,y)),2))\n",
        "data_miss['engine']=rf.predict(data_miss[['selling_price','max_power','km_driven']])"
      ],
      "execution_count": null,
      "outputs": [
        {
          "output_type": "stream",
          "text": [
            "R2_score = 1.0\n",
            "RMSE = 15.02\n"
          ],
          "name": "stdout"
        }
      ]
    },
    {
      "cell_type": "markdown",
      "metadata": {
        "id": "A-rzwcYOnXd9"
      },
      "source": [
        "#### **3) Mileage**"
      ]
    },
    {
      "cell_type": "code",
      "metadata": {
        "colab": {
          "base_uri": "https://localhost:8080/"
        },
        "id": "R-Rre8YUkx6f",
        "outputId": "16d1fb46-28cc-425d-d579-1813fda9a363"
      },
      "source": [
        "X=data_valid[['selling_price','engine','max_power','years_old']] #not including mileage since it is missing\n",
        "y=data_valid['mileage'].astype('int')\n",
        "rf=RandomForestRegressor(n_estimators=50)\n",
        "rf.fit(X,y)\n",
        "y_pred=rf.predict(X)\n",
        "print('R2_score =',round(rf.score(X,y),2))\n",
        "print('RMSE =',round(np.sqrt(mean_squared_error(y_pred,y)),2)) \n",
        "data_miss['mileage']=rf.predict(data_miss[['selling_price','engine','max_power','years_old']])"
      ],
      "execution_count": null,
      "outputs": [
        {
          "output_type": "stream",
          "text": [
            "R2_score = 0.98\n",
            "RMSE = 0.52\n"
          ],
          "name": "stdout"
        }
      ]
    },
    {
      "cell_type": "markdown",
      "metadata": {
        "id": "hg-ixr9ZxssQ"
      },
      "source": [
        "##### **4) Seats**\n"
      ]
    },
    {
      "cell_type": "code",
      "metadata": {
        "colab": {
          "base_uri": "https://localhost:8080/"
        },
        "id": "Ha9lMW7ptf20",
        "outputId": "05ff3477-f540-41de-af3b-09e045160c84"
      },
      "source": [
        "X=data_valid[['engine','mileage','km_driven']] #not including mileage since it is missing\n",
        "y=data_valid['seats']\n",
        "rf=RandomForestClassifier(n_estimators=50)\n",
        "rf.fit(X,y)\n",
        "y_pred=rf.predict(X)\n",
        "print('R2_score =',round(rf.score(X,y),2))\n",
        "print('RMSE =',round(np.sqrt(mean_squared_error(y_pred,y)),2)) \n",
        "data_miss['seats']=rf.predict(data_miss[['engine','mileage','km_driven']]).astype('int')"
      ],
      "execution_count": null,
      "outputs": [
        {
          "output_type": "stream",
          "text": [
            "R2_score = 0.99\n",
            "RMSE = 0.17\n"
          ],
          "name": "stdout"
        }
      ]
    },
    {
      "cell_type": "markdown",
      "metadata": {
        "id": "5nIbimBAzcfo"
      },
      "source": [
        "##### **5) Torque**\n"
      ]
    },
    {
      "cell_type": "code",
      "metadata": {
        "colab": {
          "base_uri": "https://localhost:8080/"
        },
        "id": "ZaKJaZ_1zbcp",
        "outputId": "c9369237-656d-45ba-8247-9802e61cc5cb"
      },
      "source": [
        "X=data_valid[['engine','max_power']] #not including mileage since it is missing\n",
        "y=data_valid['torque']\n",
        "rf=RandomForestRegressor(n_estimators=50)\n",
        "rf.fit(X,y)\n",
        "y_pred=rf.predict(X)\n",
        "print('R2_score =',round(rf.score(X,y),2))\n",
        "print('RMSE =',round(np.sqrt(mean_squared_error(y_pred,y)),2)) \n",
        "data_miss['torque']=rf.predict(data_miss[['engine','max_power']])"
      ],
      "execution_count": null,
      "outputs": [
        {
          "output_type": "stream",
          "text": [
            "R2_score = 0.77\n",
            "RMSE = 219.85\n"
          ],
          "name": "stdout"
        }
      ]
    },
    {
      "cell_type": "markdown",
      "metadata": {
        "id": "GVSKPmC_ZO0I"
      },
      "source": [
        "**Concatinated dataset and shuffled. All missing values imputed.**"
      ]
    },
    {
      "cell_type": "code",
      "metadata": {
        "colab": {
          "base_uri": "https://localhost:8080/",
          "height": 204
        },
        "id": "GZY5tGmkXtKr",
        "outputId": "cc26398d-e2f8-4da8-cbd5-d7bb9a4b4587"
      },
      "source": [
        "# Concatinating dataset after imputing values\n",
        "data2=pd.concat([data_valid,data_miss],ignore_index=True)\n",
        "data2=data2.sample(frac=1).reset_index(drop=True)\n",
        "data2.head()"
      ],
      "execution_count": null,
      "outputs": [
        {
          "output_type": "execute_result",
          "data": {
            "text/html": [
              "<div>\n",
              "<style scoped>\n",
              "    .dataframe tbody tr th:only-of-type {\n",
              "        vertical-align: middle;\n",
              "    }\n",
              "\n",
              "    .dataframe tbody tr th {\n",
              "        vertical-align: top;\n",
              "    }\n",
              "\n",
              "    .dataframe thead th {\n",
              "        text-align: right;\n",
              "    }\n",
              "</style>\n",
              "<table border=\"1\" class=\"dataframe\">\n",
              "  <thead>\n",
              "    <tr style=\"text-align: right;\">\n",
              "      <th></th>\n",
              "      <th>selling_price</th>\n",
              "      <th>km_driven</th>\n",
              "      <th>fuel</th>\n",
              "      <th>seller_type</th>\n",
              "      <th>transmission</th>\n",
              "      <th>owner</th>\n",
              "      <th>mileage</th>\n",
              "      <th>engine</th>\n",
              "      <th>max_power</th>\n",
              "      <th>seats</th>\n",
              "      <th>torque</th>\n",
              "      <th>years_old</th>\n",
              "    </tr>\n",
              "  </thead>\n",
              "  <tbody>\n",
              "    <tr>\n",
              "      <th>0</th>\n",
              "      <td>385000</td>\n",
              "      <td>120000</td>\n",
              "      <td>Petrol</td>\n",
              "      <td>Individual</td>\n",
              "      <td>Manual</td>\n",
              "      <td>First Owner</td>\n",
              "      <td>19.10</td>\n",
              "      <td>1197.0</td>\n",
              "      <td>85.8</td>\n",
              "      <td>5.0</td>\n",
              "      <td>114.0</td>\n",
              "      <td>8</td>\n",
              "    </tr>\n",
              "    <tr>\n",
              "      <th>1</th>\n",
              "      <td>150000</td>\n",
              "      <td>80000</td>\n",
              "      <td>Petrol</td>\n",
              "      <td>Individual</td>\n",
              "      <td>Manual</td>\n",
              "      <td>Third Owner</td>\n",
              "      <td>19.70</td>\n",
              "      <td>796.0</td>\n",
              "      <td>46.3</td>\n",
              "      <td>5.0</td>\n",
              "      <td>62.0</td>\n",
              "      <td>14</td>\n",
              "    </tr>\n",
              "    <tr>\n",
              "      <th>2</th>\n",
              "      <td>484999</td>\n",
              "      <td>75000</td>\n",
              "      <td>Diesel</td>\n",
              "      <td>Dealer</td>\n",
              "      <td>Manual</td>\n",
              "      <td>First Owner</td>\n",
              "      <td>19.87</td>\n",
              "      <td>1461.0</td>\n",
              "      <td>83.8</td>\n",
              "      <td>5.0</td>\n",
              "      <td>200.0</td>\n",
              "      <td>6</td>\n",
              "    </tr>\n",
              "    <tr>\n",
              "      <th>3</th>\n",
              "      <td>400000</td>\n",
              "      <td>70000</td>\n",
              "      <td>Petrol</td>\n",
              "      <td>Individual</td>\n",
              "      <td>Manual</td>\n",
              "      <td>Second Owner</td>\n",
              "      <td>19.10</td>\n",
              "      <td>1197.0</td>\n",
              "      <td>85.8</td>\n",
              "      <td>5.0</td>\n",
              "      <td>114.0</td>\n",
              "      <td>7</td>\n",
              "    </tr>\n",
              "    <tr>\n",
              "      <th>4</th>\n",
              "      <td>70000</td>\n",
              "      <td>20000</td>\n",
              "      <td>Diesel</td>\n",
              "      <td>Individual</td>\n",
              "      <td>Manual</td>\n",
              "      <td>First Owner</td>\n",
              "      <td>15.90</td>\n",
              "      <td>1527.0</td>\n",
              "      <td>57.0</td>\n",
              "      <td>5.0</td>\n",
              "      <td>96.0</td>\n",
              "      <td>18</td>\n",
              "    </tr>\n",
              "  </tbody>\n",
              "</table>\n",
              "</div>"
            ],
            "text/plain": [
              "   selling_price  km_driven    fuel  ... seats torque years_old\n",
              "0         385000     120000  Petrol  ...   5.0  114.0         8\n",
              "1         150000      80000  Petrol  ...   5.0   62.0        14\n",
              "2         484999      75000  Diesel  ...   5.0  200.0         6\n",
              "3         400000      70000  Petrol  ...   5.0  114.0         7\n",
              "4          70000      20000  Diesel  ...   5.0   96.0        18\n",
              "\n",
              "[5 rows x 12 columns]"
            ]
          },
          "metadata": {
            "tags": []
          },
          "execution_count": 190
        }
      ]
    },
    {
      "cell_type": "code",
      "metadata": {
        "id": "9Jc2WSY_egJf"
      },
      "source": [
        "# Dropping duplicate entries\n",
        "#data2.drop_duplicates(inplace=True)\n",
        "#print(data2.shape)"
      ],
      "execution_count": null,
      "outputs": []
    },
    {
      "cell_type": "markdown",
      "metadata": {
        "id": "MKTWC4TvZh4b"
      },
      "source": [
        "### **Outliers Analysis**</br>"
      ]
    },
    {
      "cell_type": "code",
      "metadata": {
        "colab": {
          "base_uri": "https://localhost:8080/",
          "height": 443
        },
        "id": "SmujG3JYYJT7",
        "outputId": "9059895b-0618-4021-bf0a-b617e978d475"
      },
      "source": [
        "fig, ax = plt.subplots(2, 4)\n",
        "sns.boxplot(data2['selling_price'],ax = ax[0,0])\n",
        "sns.boxplot(data2['km_driven'],ax = ax[0,1])\n",
        "sns.boxplot(data2['mileage'],ax = ax[0,2])\n",
        "sns.boxplot(data2['engine'],ax = ax[0,3])\n",
        "sns.boxplot(data2['max_power'],ax = ax[1,0])\n",
        "sns.boxplot(data2['seats'],ax = ax[1,1])\n",
        "sns.boxplot(data2['torque'],ax = ax[1,2])\n",
        "sns.boxplot(data2['years_old'],ax = ax[1,3])\n",
        "fig.set_figheight(7)\n",
        "fig.set_figwidth(22)\n",
        "plt.show()"
      ],
      "execution_count": null,
      "outputs": [
        {
          "output_type": "display_data",
          "data": {
            "image/png": "[encoded data removed]",
            "text/plain": [
              "<Figure size 1584x504 with 8 Axes>"
            ]
          },
          "metadata": {
            "tags": [],
            "needs_background": "light"
          }
        }
      ]
    },
    {
      "cell_type": "code",
      "metadata": {
        "colab": {
          "base_uri": "https://localhost:8080/",
          "height": 97
        },
        "id": "fBlbl-7DYK3S",
        "outputId": "1b731efa-f8c5-4785-9c18-5c588cd17597"
      },
      "source": [
        "data[data['selling_price']==data.selling_price.max()]"
      ],
      "execution_count": null,
      "outputs": [
        {
          "output_type": "execute_result",
          "data": {
            "text/html": [
              "<div>\n",
              "<style scoped>\n",
              "    .dataframe tbody tr th:only-of-type {\n",
              "        vertical-align: middle;\n",
              "    }\n",
              "\n",
              "    .dataframe tbody tr th {\n",
              "        vertical-align: top;\n",
              "    }\n",
              "\n",
              "    .dataframe thead th {\n",
              "        text-align: right;\n",
              "    }\n",
              "</style>\n",
              "<table border=\"1\" class=\"dataframe\">\n",
              "  <thead>\n",
              "    <tr style=\"text-align: right;\">\n",
              "      <th></th>\n",
              "      <th>name</th>\n",
              "      <th>year</th>\n",
              "      <th>selling_price</th>\n",
              "      <th>km_driven</th>\n",
              "      <th>fuel</th>\n",
              "      <th>seller_type</th>\n",
              "      <th>transmission</th>\n",
              "      <th>owner</th>\n",
              "      <th>mileage</th>\n",
              "      <th>engine</th>\n",
              "      <th>max_power</th>\n",
              "      <th>seats</th>\n",
              "      <th>torque</th>\n",
              "      <th>rpm</th>\n",
              "      <th>years_old</th>\n",
              "    </tr>\n",
              "  </thead>\n",
              "  <tbody>\n",
              "    <tr>\n",
              "      <th>170</th>\n",
              "      <td>Volvo XC90 T8 Excellence BSIV</td>\n",
              "      <td>2017</td>\n",
              "      <td>10000000</td>\n",
              "      <td>30000</td>\n",
              "      <td>Petrol</td>\n",
              "      <td>Individual</td>\n",
              "      <td>Automatic</td>\n",
              "      <td>First Owner</td>\n",
              "      <td>42.0</td>\n",
              "      <td>1969.0</td>\n",
              "      <td>400.0</td>\n",
              "      <td>4.0</td>\n",
              "      <td>640.0</td>\n",
              "      <td>870.0</td>\n",
              "      <td>4</td>\n",
              "    </tr>\n",
              "  </tbody>\n",
              "</table>\n",
              "</div>"
            ],
            "text/plain": [
              "                              name  year  ...    rpm  years_old\n",
              "170  Volvo XC90 T8 Excellence BSIV  2017  ...  870.0          4\n",
              "\n",
              "[1 rows x 15 columns]"
            ]
          },
          "metadata": {
            "tags": []
          },
          "execution_count": 193
        }
      ]
    },
    {
      "cell_type": "markdown",
      "metadata": {
        "id": "EcSllMvZHSkM"
      },
      "source": [
        "The actual price of brand new <b>\"Volvo XC90 T8 Excellence BSIV\"</b> is about 1.31 crore, so this selling price looks valid. Although, from the box plot it appears as an outlier but removing a valid outlier doesn't feels like a good idea."
      ]
    },
    {
      "cell_type": "code",
      "metadata": {
        "colab": {
          "base_uri": "https://localhost:8080/"
        },
        "id": "h25RzMNQPV12",
        "outputId": "43eee8b5-9a8d-4c85-80d7-f66a4706b976"
      },
      "source": [
        "q1,q3=np.percentile(data2['km_driven'].values,[25,75])\n",
        "upper_fence=q3+1.5*(q3-q1)\n",
        "lower_fence=q1-1.5*(q3-q1)\n",
        "x=data2[data2['km_driven']>upper_fence]\n",
        "print('Pearson correlation=',stats.pearsonr(x['km_driven'],x['selling_price'])[0])\n",
        "data2['km_driven'][data2['km_driven']>upper_fence]=upper_fence"
      ],
      "execution_count": null,
      "outputs": [
        {
          "output_type": "stream",
          "text": [
            "Pearson correlation= 0.08071010575941727\n"
          ],
          "name": "stdout"
        }
      ]
    },
    {
      "cell_type": "markdown",
      "metadata": {
        "id": "6PncZQEnaotB"
      },
      "source": [
        "Since pearson correlation is negligible, the outliers are assigned with upper_fence value."
      ]
    },
    {
      "cell_type": "code",
      "metadata": {
        "colab": {
          "base_uri": "https://localhost:8080/",
          "height": 266
        },
        "id": "Cu8p6UZCY8X0",
        "outputId": "606aa1bb-e2aa-4336-c2ac-57b16f35bee9"
      },
      "source": [
        "q1,q3=np.percentile(data2['mileage'].values,[25,75])\n",
        "upper_fence=q3+1.5*(q3-q1)\n",
        "lower_fence=q1-1.5*(q3-q1)\n",
        "x=data2[data2['mileage']>upper_fence]\n",
        "x.sort_values(by='mileage',ascending=False)"
      ],
      "execution_count": null,
      "outputs": [
        {
          "output_type": "execute_result",
          "data": {
            "text/html": [
              "<div>\n",
              "<style scoped>\n",
              "    .dataframe tbody tr th:only-of-type {\n",
              "        vertical-align: middle;\n",
              "    }\n",
              "\n",
              "    .dataframe tbody tr th {\n",
              "        vertical-align: top;\n",
              "    }\n",
              "\n",
              "    .dataframe thead th {\n",
              "        text-align: right;\n",
              "    }\n",
              "</style>\n",
              "<table border=\"1\" class=\"dataframe\">\n",
              "  <thead>\n",
              "    <tr style=\"text-align: right;\">\n",
              "      <th></th>\n",
              "      <th>selling_price</th>\n",
              "      <th>km_driven</th>\n",
              "      <th>fuel</th>\n",
              "      <th>seller_type</th>\n",
              "      <th>transmission</th>\n",
              "      <th>owner</th>\n",
              "      <th>mileage</th>\n",
              "      <th>engine</th>\n",
              "      <th>max_power</th>\n",
              "      <th>seats</th>\n",
              "      <th>torque</th>\n",
              "      <th>years_old</th>\n",
              "    </tr>\n",
              "  </thead>\n",
              "  <tbody>\n",
              "    <tr>\n",
              "      <th>3748</th>\n",
              "      <td>10000000</td>\n",
              "      <td>30000</td>\n",
              "      <td>Petrol</td>\n",
              "      <td>Individual</td>\n",
              "      <td>Automatic</td>\n",
              "      <td>First Owner</td>\n",
              "      <td>42.00</td>\n",
              "      <td>1969.0</td>\n",
              "      <td>400.00</td>\n",
              "      <td>4.0</td>\n",
              "      <td>640.0</td>\n",
              "      <td>4</td>\n",
              "    </tr>\n",
              "    <tr>\n",
              "      <th>5192</th>\n",
              "      <td>330000</td>\n",
              "      <td>10000</td>\n",
              "      <td>CNG</td>\n",
              "      <td>Individual</td>\n",
              "      <td>Manual</td>\n",
              "      <td>Second Owner</td>\n",
              "      <td>33.44</td>\n",
              "      <td>796.0</td>\n",
              "      <td>40.30</td>\n",
              "      <td>4.0</td>\n",
              "      <td>60.0</td>\n",
              "      <td>2</td>\n",
              "    </tr>\n",
              "    <tr>\n",
              "      <th>5568</th>\n",
              "      <td>330000</td>\n",
              "      <td>10000</td>\n",
              "      <td>CNG</td>\n",
              "      <td>Individual</td>\n",
              "      <td>Manual</td>\n",
              "      <td>Second Owner</td>\n",
              "      <td>33.44</td>\n",
              "      <td>796.0</td>\n",
              "      <td>40.30</td>\n",
              "      <td>4.0</td>\n",
              "      <td>60.0</td>\n",
              "      <td>2</td>\n",
              "    </tr>\n",
              "    <tr>\n",
              "      <th>6338</th>\n",
              "      <td>260000</td>\n",
              "      <td>67000</td>\n",
              "      <td>CNG</td>\n",
              "      <td>Individual</td>\n",
              "      <td>Manual</td>\n",
              "      <td>First Owner</td>\n",
              "      <td>33.44</td>\n",
              "      <td>796.0</td>\n",
              "      <td>40.30</td>\n",
              "      <td>4.0</td>\n",
              "      <td>60.0</td>\n",
              "      <td>4</td>\n",
              "    </tr>\n",
              "    <tr>\n",
              "      <th>1569</th>\n",
              "      <td>370000</td>\n",
              "      <td>16000</td>\n",
              "      <td>CNG</td>\n",
              "      <td>Individual</td>\n",
              "      <td>Manual</td>\n",
              "      <td>First Owner</td>\n",
              "      <td>33.00</td>\n",
              "      <td>796.0</td>\n",
              "      <td>47.30</td>\n",
              "      <td>5.0</td>\n",
              "      <td>69.0</td>\n",
              "      <td>1</td>\n",
              "    </tr>\n",
              "    <tr>\n",
              "      <th>1128</th>\n",
              "      <td>270000</td>\n",
              "      <td>80000</td>\n",
              "      <td>CNG</td>\n",
              "      <td>Individual</td>\n",
              "      <td>Manual</td>\n",
              "      <td>Second Owner</td>\n",
              "      <td>32.52</td>\n",
              "      <td>998.0</td>\n",
              "      <td>58.33</td>\n",
              "      <td>5.0</td>\n",
              "      <td>78.0</td>\n",
              "      <td>8</td>\n",
              "    </tr>\n",
              "    <tr>\n",
              "      <th>8063</th>\n",
              "      <td>430000</td>\n",
              "      <td>20000</td>\n",
              "      <td>CNG</td>\n",
              "      <td>Individual</td>\n",
              "      <td>Manual</td>\n",
              "      <td>First Owner</td>\n",
              "      <td>32.26</td>\n",
              "      <td>998.0</td>\n",
              "      <td>58.30</td>\n",
              "      <td>4.0</td>\n",
              "      <td>78.0</td>\n",
              "      <td>2</td>\n",
              "    </tr>\n",
              "  </tbody>\n",
              "</table>\n",
              "</div>"
            ],
            "text/plain": [
              "      selling_price  km_driven    fuel  ... seats torque years_old\n",
              "3748       10000000      30000  Petrol  ...   4.0  640.0         4\n",
              "5192         330000      10000     CNG  ...   4.0   60.0         2\n",
              "5568         330000      10000     CNG  ...   4.0   60.0         2\n",
              "6338         260000      67000     CNG  ...   4.0   60.0         4\n",
              "1569         370000      16000     CNG  ...   5.0   69.0         1\n",
              "1128         270000      80000     CNG  ...   5.0   78.0         8\n",
              "8063         430000      20000     CNG  ...   4.0   78.0         2\n",
              "\n",
              "[7 rows x 12 columns]"
            ]
          },
          "metadata": {
            "tags": []
          },
          "execution_count": 195
        }
      ]
    },
    {
      "cell_type": "markdown",
      "metadata": {
        "id": "q8SsAEIrcoNZ"
      },
      "source": [
        "One thing is common here, that all the vehicles,having high mileage, run on CNG fuel. The highest value i.e 42.0 kmpl is correct and verified by internet search. All these values will be kept as it is."
      ]
    },
    {
      "cell_type": "code",
      "metadata": {
        "colab": {
          "base_uri": "https://localhost:8080/",
          "height": 204
        },
        "id": "hEr9Rbj3bVZl",
        "outputId": "f0ee1527-161d-41d9-eac5-c5d5a1d7a3d2"
      },
      "source": [
        "q1,q3=np.percentile(data2['engine'].values,[25,75])\n",
        "upper_fence=q3+1.5*(q3-q1)\n",
        "lower_fence=q1-1.5*(q3-q1)\n",
        "x=data2[data2['engine']>upper_fence]\n",
        "data2.sort_values(by='engine',ascending=False).head()"
      ],
      "execution_count": null,
      "outputs": [
        {
          "output_type": "execute_result",
          "data": {
            "text/html": [
              "<div>\n",
              "<style scoped>\n",
              "    .dataframe tbody tr th:only-of-type {\n",
              "        vertical-align: middle;\n",
              "    }\n",
              "\n",
              "    .dataframe tbody tr th {\n",
              "        vertical-align: top;\n",
              "    }\n",
              "\n",
              "    .dataframe thead th {\n",
              "        text-align: right;\n",
              "    }\n",
              "</style>\n",
              "<table border=\"1\" class=\"dataframe\">\n",
              "  <thead>\n",
              "    <tr style=\"text-align: right;\">\n",
              "      <th></th>\n",
              "      <th>selling_price</th>\n",
              "      <th>km_driven</th>\n",
              "      <th>fuel</th>\n",
              "      <th>seller_type</th>\n",
              "      <th>transmission</th>\n",
              "      <th>owner</th>\n",
              "      <th>mileage</th>\n",
              "      <th>engine</th>\n",
              "      <th>max_power</th>\n",
              "      <th>seats</th>\n",
              "      <th>torque</th>\n",
              "      <th>years_old</th>\n",
              "    </tr>\n",
              "  </thead>\n",
              "  <tbody>\n",
              "    <tr>\n",
              "      <th>181</th>\n",
              "      <td>4100000</td>\n",
              "      <td>17000</td>\n",
              "      <td>Petrol</td>\n",
              "      <td>Individual</td>\n",
              "      <td>Automatic</td>\n",
              "      <td>First Owner</td>\n",
              "      <td>9.5</td>\n",
              "      <td>3604.0</td>\n",
              "      <td>280.0</td>\n",
              "      <td>5.0</td>\n",
              "      <td>347.0</td>\n",
              "      <td>4</td>\n",
              "    </tr>\n",
              "    <tr>\n",
              "      <th>4026</th>\n",
              "      <td>4100000</td>\n",
              "      <td>17000</td>\n",
              "      <td>Petrol</td>\n",
              "      <td>Individual</td>\n",
              "      <td>Automatic</td>\n",
              "      <td>First Owner</td>\n",
              "      <td>9.5</td>\n",
              "      <td>3604.0</td>\n",
              "      <td>280.0</td>\n",
              "      <td>5.0</td>\n",
              "      <td>347.0</td>\n",
              "      <td>4</td>\n",
              "    </tr>\n",
              "    <tr>\n",
              "      <th>6215</th>\n",
              "      <td>4100000</td>\n",
              "      <td>17000</td>\n",
              "      <td>Petrol</td>\n",
              "      <td>Individual</td>\n",
              "      <td>Automatic</td>\n",
              "      <td>First Owner</td>\n",
              "      <td>9.5</td>\n",
              "      <td>3604.0</td>\n",
              "      <td>280.0</td>\n",
              "      <td>5.0</td>\n",
              "      <td>347.0</td>\n",
              "      <td>4</td>\n",
              "    </tr>\n",
              "    <tr>\n",
              "      <th>4492</th>\n",
              "      <td>4100000</td>\n",
              "      <td>17000</td>\n",
              "      <td>Petrol</td>\n",
              "      <td>Individual</td>\n",
              "      <td>Automatic</td>\n",
              "      <td>First Owner</td>\n",
              "      <td>9.5</td>\n",
              "      <td>3604.0</td>\n",
              "      <td>280.0</td>\n",
              "      <td>5.0</td>\n",
              "      <td>347.0</td>\n",
              "      <td>4</td>\n",
              "    </tr>\n",
              "    <tr>\n",
              "      <th>7531</th>\n",
              "      <td>4100000</td>\n",
              "      <td>17000</td>\n",
              "      <td>Petrol</td>\n",
              "      <td>Individual</td>\n",
              "      <td>Automatic</td>\n",
              "      <td>First Owner</td>\n",
              "      <td>9.5</td>\n",
              "      <td>3604.0</td>\n",
              "      <td>280.0</td>\n",
              "      <td>5.0</td>\n",
              "      <td>347.0</td>\n",
              "      <td>4</td>\n",
              "    </tr>\n",
              "  </tbody>\n",
              "</table>\n",
              "</div>"
            ],
            "text/plain": [
              "      selling_price  km_driven    fuel  ... seats torque years_old\n",
              "181         4100000      17000  Petrol  ...   5.0  347.0         4\n",
              "4026        4100000      17000  Petrol  ...   5.0  347.0         4\n",
              "6215        4100000      17000  Petrol  ...   5.0  347.0         4\n",
              "4492        4100000      17000  Petrol  ...   5.0  347.0         4\n",
              "7531        4100000      17000  Petrol  ...   5.0  347.0         4\n",
              "\n",
              "[5 rows x 12 columns]"
            ]
          },
          "metadata": {
            "tags": []
          },
          "execution_count": 196
        }
      ]
    },
    {
      "cell_type": "markdown",
      "metadata": {
        "id": "up_dHBc0SWIi"
      },
      "source": [
        "Outlier values in **engine, max_power and seats** are valid values. These values will not be removed"
      ]
    },
    {
      "cell_type": "code",
      "metadata": {
        "colab": {
          "base_uri": "https://localhost:8080/",
          "height": 213
        },
        "id": "t0eODfDgPuto",
        "outputId": "76fa3e13-2019-402c-ce50-cc1cc25acacf"
      },
      "source": [
        "data.sort_values(by='torque',ascending=False).head(2)"
      ],
      "execution_count": null,
      "outputs": [
        {
          "output_type": "execute_result",
          "data": {
            "text/html": [
              "<div>\n",
              "<style scoped>\n",
              "    .dataframe tbody tr th:only-of-type {\n",
              "        vertical-align: middle;\n",
              "    }\n",
              "\n",
              "    .dataframe tbody tr th {\n",
              "        vertical-align: top;\n",
              "    }\n",
              "\n",
              "    .dataframe thead th {\n",
              "        text-align: right;\n",
              "    }\n",
              "</style>\n",
              "<table border=\"1\" class=\"dataframe\">\n",
              "  <thead>\n",
              "    <tr style=\"text-align: right;\">\n",
              "      <th></th>\n",
              "      <th>name</th>\n",
              "      <th>year</th>\n",
              "      <th>selling_price</th>\n",
              "      <th>km_driven</th>\n",
              "      <th>fuel</th>\n",
              "      <th>seller_type</th>\n",
              "      <th>transmission</th>\n",
              "      <th>owner</th>\n",
              "      <th>mileage</th>\n",
              "      <th>engine</th>\n",
              "      <th>max_power</th>\n",
              "      <th>seats</th>\n",
              "      <th>torque</th>\n",
              "      <th>rpm</th>\n",
              "      <th>years_old</th>\n",
              "    </tr>\n",
              "  </thead>\n",
              "  <tbody>\n",
              "    <tr>\n",
              "      <th>778</th>\n",
              "      <td>Ford Endeavour Hurricane Limited Edition</td>\n",
              "      <td>2013</td>\n",
              "      <td>1075000</td>\n",
              "      <td>110000</td>\n",
              "      <td>Diesel</td>\n",
              "      <td>Individual</td>\n",
              "      <td>Automatic</td>\n",
              "      <td>Third Owner</td>\n",
              "      <td>12.8</td>\n",
              "      <td>2953.0</td>\n",
              "      <td>156.0</td>\n",
              "      <td>7.0</td>\n",
              "      <td>38038.7</td>\n",
              "      <td>1250.0</td>\n",
              "      <td>8</td>\n",
              "    </tr>\n",
              "    <tr>\n",
              "      <th>2000</th>\n",
              "      <td>Honda Jazz Select Edition Active</td>\n",
              "      <td>2011</td>\n",
              "      <td>350000</td>\n",
              "      <td>80000</td>\n",
              "      <td>Petrol</td>\n",
              "      <td>Individual</td>\n",
              "      <td>Manual</td>\n",
              "      <td>Second Owner</td>\n",
              "      <td>16.0</td>\n",
              "      <td>1198.0</td>\n",
              "      <td>90.0</td>\n",
              "      <td>5.0</td>\n",
              "      <td>11011.2</td>\n",
              "      <td>2400.0</td>\n",
              "      <td>10</td>\n",
              "    </tr>\n",
              "  </tbody>\n",
              "</table>\n",
              "</div>"
            ],
            "text/plain": [
              "                                          name  year  ...     rpm  years_old\n",
              "778   Ford Endeavour Hurricane Limited Edition  2013  ...  1250.0          8\n",
              "2000          Honda Jazz Select Edition Active  2011  ...  2400.0         10\n",
              "\n",
              "[2 rows x 15 columns]"
            ]
          },
          "metadata": {
            "tags": []
          },
          "execution_count": 197
        }
      ]
    },
    {
      "cell_type": "markdown",
      "metadata": {
        "id": "MZA79y8gV2cT"
      },
      "source": [
        "The actual torque of **Ford Endeavour** is **380Nm @ 2500rpm** and **Honda Jazz 110 (11.2) @ 4800**. So, imputing the correct values."
      ]
    },
    {
      "cell_type": "code",
      "metadata": {
        "id": "TdWN5qZEWfCx"
      },
      "source": [
        "data2['torque'][data2['torque']==38038.7]=380\n",
        "data2['torque'][data2['torque']==11011.2]=110\n",
        "data2['torque'][data2['torque']==-1]=58.560\n",
        "data2['max_power'][data2['max_power']==-1]=38.840"
      ],
      "execution_count": null,
      "outputs": []
    },
    {
      "cell_type": "code",
      "metadata": {
        "colab": {
          "base_uri": "https://localhost:8080/",
          "height": 111
        },
        "id": "DuMwlCtcaE4r",
        "outputId": "490f21df-d23e-4834-9632-857d734b6f96"
      },
      "source": [
        "data2.sort_values(by='years_old',ascending=False).head(2)"
      ],
      "execution_count": null,
      "outputs": [
        {
          "output_type": "execute_result",
          "data": {
            "text/html": [
              "<div>\n",
              "<style scoped>\n",
              "    .dataframe tbody tr th:only-of-type {\n",
              "        vertical-align: middle;\n",
              "    }\n",
              "\n",
              "    .dataframe tbody tr th {\n",
              "        vertical-align: top;\n",
              "    }\n",
              "\n",
              "    .dataframe thead th {\n",
              "        text-align: right;\n",
              "    }\n",
              "</style>\n",
              "<table border=\"1\" class=\"dataframe\">\n",
              "  <thead>\n",
              "    <tr style=\"text-align: right;\">\n",
              "      <th></th>\n",
              "      <th>selling_price</th>\n",
              "      <th>km_driven</th>\n",
              "      <th>fuel</th>\n",
              "      <th>seller_type</th>\n",
              "      <th>transmission</th>\n",
              "      <th>owner</th>\n",
              "      <th>mileage</th>\n",
              "      <th>engine</th>\n",
              "      <th>max_power</th>\n",
              "      <th>seats</th>\n",
              "      <th>torque</th>\n",
              "      <th>years_old</th>\n",
              "    </tr>\n",
              "  </thead>\n",
              "  <tbody>\n",
              "    <tr>\n",
              "      <th>2239</th>\n",
              "      <td>300000</td>\n",
              "      <td>10000</td>\n",
              "      <td>Diesel</td>\n",
              "      <td>Individual</td>\n",
              "      <td>Manual</td>\n",
              "      <td>Third Owner</td>\n",
              "      <td>15.00</td>\n",
              "      <td>998.0</td>\n",
              "      <td>96.588</td>\n",
              "      <td>5.0</td>\n",
              "      <td>149.50</td>\n",
              "      <td>38</td>\n",
              "    </tr>\n",
              "    <tr>\n",
              "      <th>4133</th>\n",
              "      <td>55000</td>\n",
              "      <td>120000</td>\n",
              "      <td>LPG</td>\n",
              "      <td>Individual</td>\n",
              "      <td>Manual</td>\n",
              "      <td>Second Owner</td>\n",
              "      <td>15.96</td>\n",
              "      <td>796.0</td>\n",
              "      <td>41.140</td>\n",
              "      <td>4.0</td>\n",
              "      <td>60.12</td>\n",
              "      <td>30</td>\n",
              "    </tr>\n",
              "  </tbody>\n",
              "</table>\n",
              "</div>"
            ],
            "text/plain": [
              "      selling_price  km_driven    fuel  ... seats  torque years_old\n",
              "2239         300000      10000  Diesel  ...   5.0  149.50        38\n",
              "4133          55000     120000     LPG  ...   4.0   60.12        30\n",
              "\n",
              "[2 rows x 12 columns]"
            ]
          },
          "metadata": {
            "tags": []
          },
          "execution_count": 199
        }
      ]
    },
    {
      "cell_type": "code",
      "metadata": {
        "colab": {
          "base_uri": "https://localhost:8080/",
          "height": 334
        },
        "id": "D83emzErXxCT",
        "outputId": "7fa80007-01a7-4c64-a465-58f8a7c658e8"
      },
      "source": [
        "fig,ax=plt.subplots(1,2)\n",
        "sns.barplot(x='fuel',y='selling_price',hue='fuel',data=data2,ax=ax[0])\n",
        "sns.countplot(x='fuel',hue='fuel',data=data2,ax=ax[1])\n",
        "fig.set_figwidth(15)\n",
        "fig.set_figheight(5)\n",
        "plt.show()"
      ],
      "execution_count": null,
      "outputs": [
        {
          "output_type": "display_data",
          "data": {
            "image/png": "[encoded data removed]",
            "text/plain": [
              "<Figure size 1080x360 with 2 Axes>"
            ]
          },
          "metadata": {
            "tags": [],
            "needs_background": "light"
          }
        }
      ]
    },
    {
      "cell_type": "code",
      "metadata": {
        "colab": {
          "base_uri": "https://localhost:8080/",
          "height": 346
        },
        "id": "-xR0J81kedBU",
        "outputId": "469e3d0c-7296-477b-e67b-7ecce5029557"
      },
      "source": [
        "fig,ax=plt.subplots(1,2)\n",
        "sns.barplot(x='seller_type',y='selling_price',hue='seller_type',data=data2,ax=ax[0])\n",
        "sns.countplot(x='seller_type',data=data2,ax=ax[1],dodge=True)\n",
        "fig.set_figwidth(15)\n",
        "fig.set_figheight(5)\n",
        "fig.set\n",
        "plt.show()"
      ],
      "execution_count": null,
      "outputs": [
        {
          "output_type": "display_data",
          "data": {
            "image/png": "[encoded data removed]",
            "text/plain": [
              "<Figure size 1080x360 with 2 Axes>"
            ]
          },
          "metadata": {
            "tags": [],
            "needs_background": "light"
          }
        }
      ]
    },
    {
      "cell_type": "code",
      "metadata": {
        "colab": {
          "base_uri": "https://localhost:8080/",
          "height": 345
        },
        "id": "SRFS6yXy9xJ4",
        "outputId": "62fbb710-29fe-4897-c6f7-a94ff4d53555"
      },
      "source": [
        "fig,ax=plt.subplots(1,2)\n",
        "sns.barplot(x='transmission',y='selling_price',hue='fuel',data=data2,ax=ax[0])\n",
        "sns.countplot(x='transmission',hue='fuel',data=data2,ax=ax[1])\n",
        "fig.set_figwidth(15)\n",
        "fig.set_figheight(5)\n",
        "plt.show()"
      ],
      "execution_count": null,
      "outputs": [
        {
          "output_type": "display_data",
          "data": {
            "image/png": "[encoded data removed]",
            "text/plain": [
              "<Figure size 1080x360 with 2 Axes>"
            ]
          },
          "metadata": {
            "tags": [],
            "needs_background": "light"
          }
        }
      ]
    },
    {
      "cell_type": "code",
      "metadata": {
        "colab": {
          "base_uri": "https://localhost:8080/",
          "height": 422
        },
        "id": "z1fitXsi93LE",
        "outputId": "2d034077-eb4e-43c8-a20b-b7b49730720a"
      },
      "source": [
        "fig,ax=plt.subplots(1,2)\n",
        "plt.xticks(rotation=45)\n",
        "sns.barplot(x='owner',y='selling_price',data=data2,ax=ax[0])\n",
        "sns.countplot(x='owner',data=data2,ax=ax[1])\n",
        "plt.xticks(rotation=45)\n",
        "fig.set_figwidth(15)\n",
        "fig.set_figheight(5)\n",
        "plt.show()"
      ],
      "execution_count": null,
      "outputs": [
        {
          "output_type": "display_data",
          "data": {
            "image/png": "[encoded data removed]",
            "text/plain": [
              "<Figure size 1080x360 with 2 Axes>"
            ]
          },
          "metadata": {
            "tags": [],
            "needs_background": "light"
          }
        }
      ]
    },
    {
      "cell_type": "code",
      "metadata": {
        "colab": {
          "base_uri": "https://localhost:8080/",
          "height": 352
        },
        "id": "yZOYPciv97Az",
        "outputId": "9999557a-9bd2-429c-973e-3d1b38265349"
      },
      "source": [
        "fig,ax=plt.subplots(1,2)\n",
        "plt.xticks(rotation=45)\n",
        "sns.barplot(x='years_old',y='selling_price',data=data2,ax=ax[0])\n",
        "sns.countplot(x='years_old',data=data2,ax=ax[1])\n",
        "plt.xticks(rotation=45)\n",
        "fig.set_figwidth(18)\n",
        "fig.set_figheight(5)\n",
        "plt.show()"
      ],
      "execution_count": null,
      "outputs": [
        {
          "output_type": "display_data",
          "data": {
            "image/png": "[encoded data removed]",
            "text/plain": [
              "<Figure size 1296x360 with 2 Axes>"
            ]
          },
          "metadata": {
            "tags": [],
            "needs_background": "light"
          }
        }
      ]
    },
    {
      "cell_type": "markdown",
      "metadata": {
        "id": "_1SwP3rGFg0E"
      },
      "source": [
        "#### **Maping of Categorical Variables**"
      ]
    },
    {
      "cell_type": "code",
      "metadata": {
        "id": "8RPd3J9pFIlP"
      },
      "source": [
        "mydict1={'Manual':1,'Automatic':2}\n",
        "mydict2={'Diesel':4,'Petrol':3,'LPG':2,'CNG':1}\n",
        "mydict3={'First Owner':4, 'Second Owner':3, 'Third Owner':2,'Fourth & Above Owner':1, 'Test Drive Car':5}\n",
        "mydict4={'Individual':1, 'Dealer':3, 'Trustmark Dealer':2}"
      ],
      "execution_count": null,
      "outputs": []
    },
    {
      "cell_type": "code",
      "metadata": {
        "id": "Kjc4zzBlKnXp"
      },
      "source": [
        "data2['transmission']=data2['transmission'].map(mydict1)\n",
        "data2['fuel']=data2['fuel'].map(mydict2)\n",
        "data2['owner']=data2['owner'].map(mydict3)\n",
        "data2['seller_type']=data2['seller_type'].map(mydict4)"
      ],
      "execution_count": null,
      "outputs": []
    },
    {
      "cell_type": "code",
      "metadata": {
        "colab": {
          "base_uri": "https://localhost:8080/",
          "height": 204
        },
        "id": "lSAHw1zgLNjG",
        "outputId": "de4fc6f9-0157-490b-fbdc-0531e78228b4"
      },
      "source": [
        "data2.head()"
      ],
      "execution_count": null,
      "outputs": [
        {
          "output_type": "execute_result",
          "data": {
            "text/html": [
              "<div>\n",
              "<style scoped>\n",
              "    .dataframe tbody tr th:only-of-type {\n",
              "        vertical-align: middle;\n",
              "    }\n",
              "\n",
              "    .dataframe tbody tr th {\n",
              "        vertical-align: top;\n",
              "    }\n",
              "\n",
              "    .dataframe thead th {\n",
              "        text-align: right;\n",
              "    }\n",
              "</style>\n",
              "<table border=\"1\" class=\"dataframe\">\n",
              "  <thead>\n",
              "    <tr style=\"text-align: right;\">\n",
              "      <th></th>\n",
              "      <th>selling_price</th>\n",
              "      <th>km_driven</th>\n",
              "      <th>fuel</th>\n",
              "      <th>seller_type</th>\n",
              "      <th>transmission</th>\n",
              "      <th>owner</th>\n",
              "      <th>mileage</th>\n",
              "      <th>engine</th>\n",
              "      <th>max_power</th>\n",
              "      <th>seats</th>\n",
              "      <th>torque</th>\n",
              "      <th>years_old</th>\n",
              "    </tr>\n",
              "  </thead>\n",
              "  <tbody>\n",
              "    <tr>\n",
              "      <th>0</th>\n",
              "      <td>385000</td>\n",
              "      <td>120000</td>\n",
              "      <td>3</td>\n",
              "      <td>1</td>\n",
              "      <td>1</td>\n",
              "      <td>4</td>\n",
              "      <td>19.10</td>\n",
              "      <td>1197.0</td>\n",
              "      <td>85.8</td>\n",
              "      <td>5.0</td>\n",
              "      <td>114.0</td>\n",
              "      <td>8</td>\n",
              "    </tr>\n",
              "    <tr>\n",
              "      <th>1</th>\n",
              "      <td>150000</td>\n",
              "      <td>80000</td>\n",
              "      <td>3</td>\n",
              "      <td>1</td>\n",
              "      <td>1</td>\n",
              "      <td>2</td>\n",
              "      <td>19.70</td>\n",
              "      <td>796.0</td>\n",
              "      <td>46.3</td>\n",
              "      <td>5.0</td>\n",
              "      <td>62.0</td>\n",
              "      <td>14</td>\n",
              "    </tr>\n",
              "    <tr>\n",
              "      <th>2</th>\n",
              "      <td>484999</td>\n",
              "      <td>75000</td>\n",
              "      <td>4</td>\n",
              "      <td>3</td>\n",
              "      <td>1</td>\n",
              "      <td>4</td>\n",
              "      <td>19.87</td>\n",
              "      <td>1461.0</td>\n",
              "      <td>83.8</td>\n",
              "      <td>5.0</td>\n",
              "      <td>200.0</td>\n",
              "      <td>6</td>\n",
              "    </tr>\n",
              "    <tr>\n",
              "      <th>3</th>\n",
              "      <td>400000</td>\n",
              "      <td>70000</td>\n",
              "      <td>3</td>\n",
              "      <td>1</td>\n",
              "      <td>1</td>\n",
              "      <td>3</td>\n",
              "      <td>19.10</td>\n",
              "      <td>1197.0</td>\n",
              "      <td>85.8</td>\n",
              "      <td>5.0</td>\n",
              "      <td>114.0</td>\n",
              "      <td>7</td>\n",
              "    </tr>\n",
              "    <tr>\n",
              "      <th>4</th>\n",
              "      <td>70000</td>\n",
              "      <td>20000</td>\n",
              "      <td>4</td>\n",
              "      <td>1</td>\n",
              "      <td>1</td>\n",
              "      <td>4</td>\n",
              "      <td>15.90</td>\n",
              "      <td>1527.0</td>\n",
              "      <td>57.0</td>\n",
              "      <td>5.0</td>\n",
              "      <td>96.0</td>\n",
              "      <td>18</td>\n",
              "    </tr>\n",
              "  </tbody>\n",
              "</table>\n",
              "</div>"
            ],
            "text/plain": [
              "   selling_price  km_driven  fuel  ...  seats  torque  years_old\n",
              "0         385000     120000     3  ...    5.0   114.0          8\n",
              "1         150000      80000     3  ...    5.0    62.0         14\n",
              "2         484999      75000     4  ...    5.0   200.0          6\n",
              "3         400000      70000     3  ...    5.0   114.0          7\n",
              "4          70000      20000     4  ...    5.0    96.0         18\n",
              "\n",
              "[5 rows x 12 columns]"
            ]
          },
          "metadata": {
            "tags": []
          },
          "execution_count": 207
        }
      ]
    },
    {
      "cell_type": "markdown",
      "metadata": {
        "id": "ro62XS27LfB_"
      },
      "source": [
        "#### **Multicollinearity Check**"
      ]
    },
    {
      "cell_type": "code",
      "metadata": {
        "id": "Uc9cSV-BL3q2"
      },
      "source": [
        "from statsmodels.stats.outliers_influence import variance_inflation_factor"
      ],
      "execution_count": null,
      "outputs": []
    },
    {
      "cell_type": "code",
      "metadata": {
        "colab": {
          "base_uri": "https://localhost:8080/",
          "height": 421
        },
        "id": "A4PVmOyoL4N4",
        "outputId": "ea4f9dc2-d39c-483e-e774-b67bb396bd9a"
      },
      "source": [
        "# calculating VIF for each feature\n",
        "vif_data = pd.DataFrame()\n",
        "vif_data[\"data2\"] = data2.columns\n",
        "vif_data[\"VIF_1\"] = [variance_inflation_factor(data2.values, i) for i in range(len(data2.columns))]\n",
        "vif_data.sort_values('VIF_1',ascending=False,ignore_index=True)"
      ],
      "execution_count": null,
      "outputs": [
        {
          "output_type": "execute_result",
          "data": {
            "text/html": [
              "<div>\n",
              "<style scoped>\n",
              "    .dataframe tbody tr th:only-of-type {\n",
              "        vertical-align: middle;\n",
              "    }\n",
              "\n",
              "    .dataframe tbody tr th {\n",
              "        vertical-align: top;\n",
              "    }\n",
              "\n",
              "    .dataframe thead th {\n",
              "        text-align: right;\n",
              "    }\n",
              "</style>\n",
              "<table border=\"1\" class=\"dataframe\">\n",
              "  <thead>\n",
              "    <tr style=\"text-align: right;\">\n",
              "      <th></th>\n",
              "      <th>data2</th>\n",
              "      <th>VIF_1</th>\n",
              "    </tr>\n",
              "  </thead>\n",
              "  <tbody>\n",
              "    <tr>\n",
              "      <th>0</th>\n",
              "      <td>fuel</td>\n",
              "      <td>95.104680</td>\n",
              "    </tr>\n",
              "    <tr>\n",
              "      <th>1</th>\n",
              "      <td>seats</td>\n",
              "      <td>51.823991</td>\n",
              "    </tr>\n",
              "    <tr>\n",
              "      <th>2</th>\n",
              "      <td>engine</td>\n",
              "      <td>47.339003</td>\n",
              "    </tr>\n",
              "    <tr>\n",
              "      <th>3</th>\n",
              "      <td>mileage</td>\n",
              "      <td>39.911873</td>\n",
              "    </tr>\n",
              "    <tr>\n",
              "      <th>4</th>\n",
              "      <td>max_power</td>\n",
              "      <td>37.134368</td>\n",
              "    </tr>\n",
              "    <tr>\n",
              "      <th>5</th>\n",
              "      <td>owner</td>\n",
              "      <td>30.467614</td>\n",
              "    </tr>\n",
              "    <tr>\n",
              "      <th>6</th>\n",
              "      <td>transmission</td>\n",
              "      <td>19.277710</td>\n",
              "    </tr>\n",
              "    <tr>\n",
              "      <th>7</th>\n",
              "      <td>torque</td>\n",
              "      <td>14.114908</td>\n",
              "    </tr>\n",
              "    <tr>\n",
              "      <th>8</th>\n",
              "      <td>years_old</td>\n",
              "      <td>6.858649</td>\n",
              "    </tr>\n",
              "    <tr>\n",
              "      <th>9</th>\n",
              "      <td>km_driven</td>\n",
              "      <td>6.167965</td>\n",
              "    </tr>\n",
              "    <tr>\n",
              "      <th>10</th>\n",
              "      <td>seller_type</td>\n",
              "      <td>5.706243</td>\n",
              "    </tr>\n",
              "    <tr>\n",
              "      <th>11</th>\n",
              "      <td>selling_price</td>\n",
              "      <td>4.988098</td>\n",
              "    </tr>\n",
              "  </tbody>\n",
              "</table>\n",
              "</div>"
            ],
            "text/plain": [
              "            data2      VIF_1\n",
              "0            fuel  95.104680\n",
              "1           seats  51.823991\n",
              "2          engine  47.339003\n",
              "3         mileage  39.911873\n",
              "4       max_power  37.134368\n",
              "5           owner  30.467614\n",
              "6    transmission  19.277710\n",
              "7          torque  14.114908\n",
              "8       years_old   6.858649\n",
              "9       km_driven   6.167965\n",
              "10    seller_type   5.706243\n",
              "11  selling_price   4.988098"
            ]
          },
          "metadata": {
            "tags": []
          },
          "execution_count": 209
        }
      ]
    },
    {
      "cell_type": "markdown",
      "metadata": {
        "id": "6LGlFjYwMS3Q"
      },
      "source": [
        "Multicollinearity level in most of the features are very high. Let's scale these features and try VIF once more."
      ]
    },
    {
      "cell_type": "code",
      "metadata": {
        "id": "m2UNEnw0MAwn"
      },
      "source": [
        "# Scaling all the features except Selling_price\n",
        "scaled=StandardScaler().fit_transform(data2[['km_driven','mileage','engine','max_power','seats','torque','years_old','fuel','seller_type','transmission','owner']])"
      ],
      "execution_count": null,
      "outputs": []
    },
    {
      "cell_type": "code",
      "metadata": {
        "id": "1XNE1rgINheV"
      },
      "source": [
        "data2_scaled=data2.copy()\n",
        "data2_scaled[['km_driven','mileage','engine','max_power','seats','torque','years_old','fuel','seller_type','transmission','owner']]=scaled"
      ],
      "execution_count": null,
      "outputs": []
    },
    {
      "cell_type": "code",
      "metadata": {
        "colab": {
          "base_uri": "https://localhost:8080/",
          "height": 204
        },
        "id": "AsMChprBNjQp",
        "outputId": "999620d3-7c33-4776-cd60-a61a36df45b6"
      },
      "source": [
        "data2_scaled.head()"
      ],
      "execution_count": null,
      "outputs": [
        {
          "output_type": "execute_result",
          "data": {
            "text/html": [
              "<div>\n",
              "<style scoped>\n",
              "    .dataframe tbody tr th:only-of-type {\n",
              "        vertical-align: middle;\n",
              "    }\n",
              "\n",
              "    .dataframe tbody tr th {\n",
              "        vertical-align: top;\n",
              "    }\n",
              "\n",
              "    .dataframe thead th {\n",
              "        text-align: right;\n",
              "    }\n",
              "</style>\n",
              "<table border=\"1\" class=\"dataframe\">\n",
              "  <thead>\n",
              "    <tr style=\"text-align: right;\">\n",
              "      <th></th>\n",
              "      <th>selling_price</th>\n",
              "      <th>km_driven</th>\n",
              "      <th>fuel</th>\n",
              "      <th>seller_type</th>\n",
              "      <th>transmission</th>\n",
              "      <th>owner</th>\n",
              "      <th>mileage</th>\n",
              "      <th>engine</th>\n",
              "      <th>max_power</th>\n",
              "      <th>seats</th>\n",
              "      <th>torque</th>\n",
              "      <th>years_old</th>\n",
              "    </tr>\n",
              "  </thead>\n",
              "  <tbody>\n",
              "    <tr>\n",
              "      <th>0</th>\n",
              "      <td>385000</td>\n",
              "      <td>1.186431</td>\n",
              "      <td>-0.953217</td>\n",
              "      <td>-0.437525</td>\n",
              "      <td>-0.385158</td>\n",
              "      <td>0.640081</td>\n",
              "      <td>-0.074804</td>\n",
              "      <td>-0.514652</td>\n",
              "      <td>-0.152674</td>\n",
              "      <td>-0.43237</td>\n",
              "      <td>-0.546375</td>\n",
              "      <td>0.198816</td>\n",
              "    </tr>\n",
              "    <tr>\n",
              "      <th>1</th>\n",
              "      <td>150000</td>\n",
              "      <td>0.268294</td>\n",
              "      <td>-0.953217</td>\n",
              "      <td>-0.437525</td>\n",
              "      <td>-0.385158</td>\n",
              "      <td>-2.148011</td>\n",
              "      <td>0.078209</td>\n",
              "      <td>-1.314519</td>\n",
              "      <td>-1.262564</td>\n",
              "      <td>-0.43237</td>\n",
              "      <td>-1.083659</td>\n",
              "      <td>1.682495</td>\n",
              "    </tr>\n",
              "    <tr>\n",
              "      <th>2</th>\n",
              "      <td>484999</td>\n",
              "      <td>0.153527</td>\n",
              "      <td>0.869782</td>\n",
              "      <td>2.421162</td>\n",
              "      <td>-0.385158</td>\n",
              "      <td>0.640081</td>\n",
              "      <td>0.121563</td>\n",
              "      <td>0.011943</td>\n",
              "      <td>-0.208871</td>\n",
              "      <td>-0.43237</td>\n",
              "      <td>0.342209</td>\n",
              "      <td>-0.295744</td>\n",
              "    </tr>\n",
              "    <tr>\n",
              "      <th>3</th>\n",
              "      <td>400000</td>\n",
              "      <td>0.038760</td>\n",
              "      <td>-0.953217</td>\n",
              "      <td>-0.437525</td>\n",
              "      <td>-0.385158</td>\n",
              "      <td>-0.753965</td>\n",
              "      <td>-0.074804</td>\n",
              "      <td>-0.514652</td>\n",
              "      <td>-0.152674</td>\n",
              "      <td>-0.43237</td>\n",
              "      <td>-0.546375</td>\n",
              "      <td>-0.048464</td>\n",
              "    </tr>\n",
              "    <tr>\n",
              "      <th>4</th>\n",
              "      <td>70000</td>\n",
              "      <td>-1.108912</td>\n",
              "      <td>0.869782</td>\n",
              "      <td>-0.437525</td>\n",
              "      <td>-0.385158</td>\n",
              "      <td>0.640081</td>\n",
              "      <td>-0.890877</td>\n",
              "      <td>0.143592</td>\n",
              "      <td>-0.961910</td>\n",
              "      <td>-0.43237</td>\n",
              "      <td>-0.732358</td>\n",
              "      <td>2.671615</td>\n",
              "    </tr>\n",
              "  </tbody>\n",
              "</table>\n",
              "</div>"
            ],
            "text/plain": [
              "   selling_price  km_driven      fuel  ...    seats    torque  years_old\n",
              "0         385000   1.186431 -0.953217  ... -0.43237 -0.546375   0.198816\n",
              "1         150000   0.268294 -0.953217  ... -0.43237 -1.083659   1.682495\n",
              "2         484999   0.153527  0.869782  ... -0.43237  0.342209  -0.295744\n",
              "3         400000   0.038760 -0.953217  ... -0.43237 -0.546375  -0.048464\n",
              "4          70000  -1.108912  0.869782  ... -0.43237 -0.732358   2.671615\n",
              "\n",
              "[5 rows x 12 columns]"
            ]
          },
          "metadata": {
            "tags": []
          },
          "execution_count": 212
        }
      ]
    },
    {
      "cell_type": "code",
      "metadata": {
        "colab": {
          "base_uri": "https://localhost:8080/",
          "height": 421
        },
        "id": "2uZeMkcxN_T3",
        "outputId": "256a25b2-32e2-4f4f-938a-c0879d1daea7"
      },
      "source": [
        "vif_data[\"data2_scaled\"] = data2_scaled.columns\n",
        "vif_data[\"VIF_2\"] = [variance_inflation_factor(data2_scaled.values, i) for i in range(len(data2_scaled.columns))]\n",
        "vif_data.sort_values('VIF_2',ascending=False,ignore_index=True)"
      ],
      "execution_count": null,
      "outputs": [
        {
          "output_type": "execute_result",
          "data": {
            "text/html": [
              "<div>\n",
              "<style scoped>\n",
              "    .dataframe tbody tr th:only-of-type {\n",
              "        vertical-align: middle;\n",
              "    }\n",
              "\n",
              "    .dataframe tbody tr th {\n",
              "        vertical-align: top;\n",
              "    }\n",
              "\n",
              "    .dataframe thead th {\n",
              "        text-align: right;\n",
              "    }\n",
              "</style>\n",
              "<table border=\"1\" class=\"dataframe\">\n",
              "  <thead>\n",
              "    <tr style=\"text-align: right;\">\n",
              "      <th></th>\n",
              "      <th>data2</th>\n",
              "      <th>VIF_1</th>\n",
              "      <th>data2_scaled</th>\n",
              "      <th>VIF_2</th>\n",
              "    </tr>\n",
              "  </thead>\n",
              "  <tbody>\n",
              "    <tr>\n",
              "      <th>0</th>\n",
              "      <td>max_power</td>\n",
              "      <td>37.134368</td>\n",
              "      <td>max_power</td>\n",
              "      <td>5.163375</td>\n",
              "    </tr>\n",
              "    <tr>\n",
              "      <th>1</th>\n",
              "      <td>engine</td>\n",
              "      <td>47.339003</td>\n",
              "      <td>engine</td>\n",
              "      <td>5.023781</td>\n",
              "    </tr>\n",
              "    <tr>\n",
              "      <th>2</th>\n",
              "      <td>torque</td>\n",
              "      <td>14.114908</td>\n",
              "      <td>torque</td>\n",
              "      <td>3.941524</td>\n",
              "    </tr>\n",
              "    <tr>\n",
              "      <th>3</th>\n",
              "      <td>mileage</td>\n",
              "      <td>39.911873</td>\n",
              "      <td>mileage</td>\n",
              "      <td>2.674529</td>\n",
              "    </tr>\n",
              "    <tr>\n",
              "      <th>4</th>\n",
              "      <td>fuel</td>\n",
              "      <td>95.104680</td>\n",
              "      <td>fuel</td>\n",
              "      <td>2.357786</td>\n",
              "    </tr>\n",
              "    <tr>\n",
              "      <th>5</th>\n",
              "      <td>seats</td>\n",
              "      <td>51.823991</td>\n",
              "      <td>seats</td>\n",
              "      <td>2.299420</td>\n",
              "    </tr>\n",
              "    <tr>\n",
              "      <th>6</th>\n",
              "      <td>years_old</td>\n",
              "      <td>6.858649</td>\n",
              "      <td>years_old</td>\n",
              "      <td>2.294974</td>\n",
              "    </tr>\n",
              "    <tr>\n",
              "      <th>7</th>\n",
              "      <td>km_driven</td>\n",
              "      <td>6.167965</td>\n",
              "      <td>km_driven</td>\n",
              "      <td>1.778124</td>\n",
              "    </tr>\n",
              "    <tr>\n",
              "      <th>8</th>\n",
              "      <td>selling_price</td>\n",
              "      <td>4.988098</td>\n",
              "      <td>selling_price</td>\n",
              "      <td>1.720891</td>\n",
              "    </tr>\n",
              "    <tr>\n",
              "      <th>9</th>\n",
              "      <td>transmission</td>\n",
              "      <td>19.277710</td>\n",
              "      <td>transmission</td>\n",
              "      <td>1.692594</td>\n",
              "    </tr>\n",
              "    <tr>\n",
              "      <th>10</th>\n",
              "      <td>owner</td>\n",
              "      <td>30.467614</td>\n",
              "      <td>owner</td>\n",
              "      <td>1.398249</td>\n",
              "    </tr>\n",
              "    <tr>\n",
              "      <th>11</th>\n",
              "      <td>seller_type</td>\n",
              "      <td>5.706243</td>\n",
              "      <td>seller_type</td>\n",
              "      <td>1.254821</td>\n",
              "    </tr>\n",
              "  </tbody>\n",
              "</table>\n",
              "</div>"
            ],
            "text/plain": [
              "            data2      VIF_1   data2_scaled     VIF_2\n",
              "0       max_power  37.134368      max_power  5.163375\n",
              "1          engine  47.339003         engine  5.023781\n",
              "2          torque  14.114908         torque  3.941524\n",
              "3         mileage  39.911873        mileage  2.674529\n",
              "4            fuel  95.104680           fuel  2.357786\n",
              "5           seats  51.823991          seats  2.299420\n",
              "6       years_old   6.858649      years_old  2.294974\n",
              "7       km_driven   6.167965      km_driven  1.778124\n",
              "8   selling_price   4.988098  selling_price  1.720891\n",
              "9    transmission  19.277710   transmission  1.692594\n",
              "10          owner  30.467614          owner  1.398249\n",
              "11    seller_type   5.706243    seller_type  1.254821"
            ]
          },
          "metadata": {
            "tags": []
          },
          "execution_count": 213
        }
      ]
    },
    {
      "cell_type": "code",
      "metadata": {
        "colab": {
          "base_uri": "https://localhost:8080/",
          "height": 294
        },
        "id": "-vL0XNMFUJwG",
        "outputId": "662537e1-11e2-4bbe-9d9e-a284b600aa6d"
      },
      "source": [
        "fig, axes = plt.subplots(1,2,figsize=(15,4))\n",
        "axes[0].set_title('selling_price')\n",
        "sns.distplot(data2['selling_price'].values.reshape(-1,1),ax=axes[0],kde_kws = {'shade': True, 'linewidth': 3,'color':'black','fill':True},color='blue')\n",
        "axes[1].set_title('log-transformation')\n",
        "sns.distplot(np.log(data2['selling_price'].values.reshape(-1,1)),ax=axes[1],kde_kws = {'shade': True, 'linewidth': 3,'color':'black','fill':True},color='blue')\n",
        "plt.show()"
      ],
      "execution_count": null,
      "outputs": [
        {
          "output_type": "display_data",
          "data": {
            "image/png": "[encoded data removed]",
            "text/plain": [
              "<Figure size 1080x288 with 2 Axes>"
            ]
          },
          "metadata": {
            "tags": [],
            "needs_background": "light"
          }
        }
      ]
    },
    {
      "cell_type": "code",
      "metadata": {
        "id": "DNL1ilddV3cT"
      },
      "source": [
        "data2_scaled['selling_price']=np.log(data2_scaled['selling_price'])"
      ],
      "execution_count": null,
      "outputs": []
    },
    {
      "cell_type": "code",
      "metadata": {
        "colab": {
          "base_uri": "https://localhost:8080/",
          "height": 204
        },
        "id": "YtsvyciyU4Sm",
        "outputId": "0847e553-3437-4221-db03-7683db2b69c1"
      },
      "source": [
        "data2_scaled.head()"
      ],
      "execution_count": null,
      "outputs": [
        {
          "output_type": "execute_result",
          "data": {
            "text/html": [
              "<div>\n",
              "<style scoped>\n",
              "    .dataframe tbody tr th:only-of-type {\n",
              "        vertical-align: middle;\n",
              "    }\n",
              "\n",
              "    .dataframe tbody tr th {\n",
              "        vertical-align: top;\n",
              "    }\n",
              "\n",
              "    .dataframe thead th {\n",
              "        text-align: right;\n",
              "    }\n",
              "</style>\n",
              "<table border=\"1\" class=\"dataframe\">\n",
              "  <thead>\n",
              "    <tr style=\"text-align: right;\">\n",
              "      <th></th>\n",
              "      <th>selling_price</th>\n",
              "      <th>km_driven</th>\n",
              "      <th>fuel</th>\n",
              "      <th>seller_type</th>\n",
              "      <th>transmission</th>\n",
              "      <th>owner</th>\n",
              "      <th>mileage</th>\n",
              "      <th>engine</th>\n",
              "      <th>max_power</th>\n",
              "      <th>seats</th>\n",
              "      <th>torque</th>\n",
              "      <th>years_old</th>\n",
              "    </tr>\n",
              "  </thead>\n",
              "  <tbody>\n",
              "    <tr>\n",
              "      <th>0</th>\n",
              "      <td>12.860999</td>\n",
              "      <td>1.186431</td>\n",
              "      <td>-0.953217</td>\n",
              "      <td>-0.437525</td>\n",
              "      <td>-0.385158</td>\n",
              "      <td>0.640081</td>\n",
              "      <td>-0.074804</td>\n",
              "      <td>-0.514652</td>\n",
              "      <td>-0.152674</td>\n",
              "      <td>-0.43237</td>\n",
              "      <td>-0.546375</td>\n",
              "      <td>0.198816</td>\n",
              "    </tr>\n",
              "    <tr>\n",
              "      <th>1</th>\n",
              "      <td>11.918391</td>\n",
              "      <td>0.268294</td>\n",
              "      <td>-0.953217</td>\n",
              "      <td>-0.437525</td>\n",
              "      <td>-0.385158</td>\n",
              "      <td>-2.148011</td>\n",
              "      <td>0.078209</td>\n",
              "      <td>-1.314519</td>\n",
              "      <td>-1.262564</td>\n",
              "      <td>-0.43237</td>\n",
              "      <td>-1.083659</td>\n",
              "      <td>1.682495</td>\n",
              "    </tr>\n",
              "    <tr>\n",
              "      <th>2</th>\n",
              "      <td>13.091902</td>\n",
              "      <td>0.153527</td>\n",
              "      <td>0.869782</td>\n",
              "      <td>2.421162</td>\n",
              "      <td>-0.385158</td>\n",
              "      <td>0.640081</td>\n",
              "      <td>0.121563</td>\n",
              "      <td>0.011943</td>\n",
              "      <td>-0.208871</td>\n",
              "      <td>-0.43237</td>\n",
              "      <td>0.342209</td>\n",
              "      <td>-0.295744</td>\n",
              "    </tr>\n",
              "    <tr>\n",
              "      <th>3</th>\n",
              "      <td>12.899220</td>\n",
              "      <td>0.038760</td>\n",
              "      <td>-0.953217</td>\n",
              "      <td>-0.437525</td>\n",
              "      <td>-0.385158</td>\n",
              "      <td>-0.753965</td>\n",
              "      <td>-0.074804</td>\n",
              "      <td>-0.514652</td>\n",
              "      <td>-0.152674</td>\n",
              "      <td>-0.43237</td>\n",
              "      <td>-0.546375</td>\n",
              "      <td>-0.048464</td>\n",
              "    </tr>\n",
              "    <tr>\n",
              "      <th>4</th>\n",
              "      <td>11.156251</td>\n",
              "      <td>-1.108912</td>\n",
              "      <td>0.869782</td>\n",
              "      <td>-0.437525</td>\n",
              "      <td>-0.385158</td>\n",
              "      <td>0.640081</td>\n",
              "      <td>-0.890877</td>\n",
              "      <td>0.143592</td>\n",
              "      <td>-0.961910</td>\n",
              "      <td>-0.43237</td>\n",
              "      <td>-0.732358</td>\n",
              "      <td>2.671615</td>\n",
              "    </tr>\n",
              "  </tbody>\n",
              "</table>\n",
              "</div>"
            ],
            "text/plain": [
              "   selling_price  km_driven      fuel  ...    seats    torque  years_old\n",
              "0      12.860999   1.186431 -0.953217  ... -0.43237 -0.546375   0.198816\n",
              "1      11.918391   0.268294 -0.953217  ... -0.43237 -1.083659   1.682495\n",
              "2      13.091902   0.153527  0.869782  ... -0.43237  0.342209  -0.295744\n",
              "3      12.899220   0.038760 -0.953217  ... -0.43237 -0.546375  -0.048464\n",
              "4      11.156251  -1.108912  0.869782  ... -0.43237 -0.732358   2.671615\n",
              "\n",
              "[5 rows x 12 columns]"
            ]
          },
          "metadata": {
            "tags": []
          },
          "execution_count": 216
        }
      ]
    },
    {
      "cell_type": "code",
      "metadata": {
        "id": "ODU_uyijWDRz"
      },
      "source": [
        "X=data2_scaled.drop('selling_price',axis=1)\n",
        "y=data2_scaled['selling_price']"
      ],
      "execution_count": null,
      "outputs": []
    },
    {
      "cell_type": "code",
      "metadata": {
        "colab": {
          "base_uri": "https://localhost:8080/"
        },
        "id": "q99gmSj4Weuw",
        "outputId": "190714e8-b376-4b56-8743-682e06b0e657"
      },
      "source": [
        "# OLS\n",
        "import statsmodels.api as sm\n",
        "X= sm.add_constant(X)\n",
        "result = sm.OLS(y,X).fit()\n",
        "# printing the summary table\n",
        "print(result.summary())"
      ],
      "execution_count": null,
      "outputs": [
        {
          "output_type": "stream",
          "text": [
            "                            OLS Regression Results                            \n",
            "==============================================================================\n",
            "Dep. Variable:          selling_price   R-squared:                       0.872\n",
            "Model:                            OLS   Adj. R-squared:                  0.872\n",
            "Method:                 Least Squares   F-statistic:                     5030.\n",
            "Date:                Tue, 20 Jul 2021   Prob (F-statistic):               0.00\n",
            "Time:                        15:51:45   Log-Likelihood:                -1749.9\n",
            "No. Observations:                8128   AIC:                             3524.\n",
            "Df Residuals:                    8116   BIC:                             3608.\n",
            "Df Model:                          11                                         \n",
            "Covariance Type:            nonrobust                                         \n",
            "================================================================================\n",
            "                   coef    std err          t      P>|t|      [0.025      0.975]\n",
            "--------------------------------------------------------------------------------\n",
            "const           12.9734      0.003   3894.601      0.000      12.967      12.980\n",
            "km_driven       -0.0492      0.004    -11.117      0.000      -0.058      -0.041\n",
            "fuel             0.0654      0.005     12.789      0.000       0.055       0.075\n",
            "seller_type      0.0410      0.004     11.026      0.000       0.034       0.048\n",
            "transmission     0.0628      0.004     14.643      0.000       0.054       0.071\n",
            "owner            0.0355      0.004      9.011      0.000       0.028       0.043\n",
            "mileage          0.0647      0.005     11.883      0.000       0.054       0.075\n",
            "engine           0.1329      0.007     17.816      0.000       0.118       0.148\n",
            "max_power        0.3566      0.007     48.475      0.000       0.342       0.371\n",
            "seats            0.0346      0.005      6.848      0.000       0.025       0.044\n",
            "torque           0.0109      0.007      1.644      0.100      -0.002       0.024\n",
            "years_old       -0.4116      0.005    -81.784      0.000      -0.421      -0.402\n",
            "==============================================================================\n",
            "Omnibus:                      557.438   Durbin-Watson:                   2.010\n",
            "Prob(Omnibus):                  0.000   Jarque-Bera (JB):             2114.322\n",
            "Skew:                          -0.257   Prob(JB):                         0.00\n",
            "Kurtosis:                       5.445   Cond. No.                         5.67\n",
            "==============================================================================\n",
            "\n",
            "Warnings:\n",
            "[1] Standard Errors assume that the covariance matrix of the errors is correctly specified.\n"
          ],
          "name": "stdout"
        }
      ]
    },
    {
      "cell_type": "markdown",
      "metadata": {
        "id": "DmOw12lhk9Po"
      },
      "source": [
        "#### **Modelling**"
      ]
    },
    {
      "cell_type": "code",
      "metadata": {
        "id": "EerMHA1uWoC2"
      },
      "source": [
        "X_train,X_test,y_train,y_test=train_test_split(X,y,test_size=0.3,shuffle=True,random_state=12)"
      ],
      "execution_count": null,
      "outputs": []
    },
    {
      "cell_type": "code",
      "metadata": {
        "id": "zLO_8qQ-f1AS"
      },
      "source": [
        "# LINEAR REGRESSION\n",
        "def linear_regression(X_train,y_train,X_test,y_test):\n",
        "  y_pred=LinearRegression().fit(X,y).predict(X_test)\n",
        "  return (mean_squared_error(y_test,y_pred))\n",
        "\n",
        "#RIDGE\n",
        "def ridge_regression(X_train,y_train,X_test,y_test):\n",
        "  y_pred=Ridge(alpha=0.5).fit(X_train,y_train).predict(X_test)\n",
        "  return (mean_squared_error(y_test,y_pred))\n",
        "\n",
        "#LASSO\n",
        "def lasso_regression(X_train,y_train,X_test,y_test):\n",
        "  y_pred=Lasso(alpha=0.5).fit(X_train,y_train).predict(X_test)\n",
        "  return (mean_squared_error(y_test,y_pred))\n",
        "\n",
        "#KNN\n",
        "def knn_regression(X_train,y_train,X_test,y_test):\n",
        "  y_pred=KNeighborsRegressor(n_neighbors=2).fit(X_train,y_train).predict(X_test)\n",
        "  return (mean_squared_error(y_test,y_pred))\n",
        "\n",
        "#RANDOM FOREST\n",
        "def randomforest_reg(X_train,y_train,X_test,y_test):\n",
        "  y_pred=RandomForestRegressor(max_depth=3).fit(X_train,y_train).predict(X_test)\n",
        "  return (mean_squared_error(y_test,y_pred))\n",
        "#BAGGING\n",
        "def bagging_reg(X_train,y_train,X_test,y_test):\n",
        "  y_pred=BaggingRegressor(base_estimator=SVR(),n_estimators=10, random_state=0).fit(X_train,y_train).predict(X_test)\n",
        "  return (mean_squared_error(y_test,y_pred))\n",
        "\n",
        "#ADABOOST\n",
        "def adaboost_reg(X_train,y_train,X_test,y_test):\n",
        "  y_pred=AdaBoostRegressor().fit(X_train,y_train).predict(X_test)\n",
        "  return (mean_squared_error(y_test,y_pred))\n",
        "\n",
        "#XGBOOST\n",
        "def xgboost_reg(X_train,y_train,X_test,y_test):\n",
        "  y_pred=xgb.XGBRFRegressor(objective='reg:linear',n_estimators=10).fit(X_train,y_train).predict(X_test)\n",
        "  return (mean_absolute_error(y_test,y_pred))\n",
        "\n",
        "#SGDRegressor\n",
        "def sgd_reg(X_train,y_train,X_test,y_test):\n",
        "  y_pred=SGDRegressor().fit(X_train,y_train).predict(X_test)\n",
        "  return (mean_squared_error(y_test,y_pred))\n",
        "\n",
        "#EXTRA_TREES\n",
        "def extra_trees_reg(X_train,y_train,X_test,y_test):\n",
        "  y_pred=ExtraTreesRegressor().fit(X_train,y_train).predict(X_test)\n",
        "  return (mean_squared_error(y_test,y_pred))\n",
        "\n",
        "#GRADIENT BOOSTING\n",
        "def gradientB_reg(X_train,y_train,X_test,y_test):\n",
        "  y_pred=GradientBoostingRegressor().fit(X_train,y_train).predict(X_test)\n",
        "  return (mean_squared_error(y_test,y_pred))"
      ],
      "execution_count": null,
      "outputs": []
    },
    {
      "cell_type": "code",
      "metadata": {
        "id": "fdxDKviugCJq"
      },
      "source": [
        "def model(X,y,test_size):\n",
        "  #X=dataset.drop('selling_price',axis=1)\n",
        "  #y=dataset['selling_price']\n",
        "  X_train,X_test,y_train,y_test=train_test_split(X,y,test_size=test_size,shuffle=True,random_state=12)\n",
        "  #LINEAR REGRESSION\n",
        "  result=linear_regression(X_train,y_train,X_test,y_test)\n",
        "  #RIDGE\n",
        "  result1=ridge_regression(X_train,y_train,X_test,y_test)\n",
        "  #LASSO\n",
        "  result2=lasso_regression(X_train,y_train,X_test,y_test)\n",
        "  #KNN\n",
        "  result3=knn_regression(X_train,y_train,X_test,y_test)\n",
        "  #RANDOM FOREST\n",
        "  result4=randomforest_reg(X_train,y_train,X_test,y_test)\n",
        "  #BAGGING\n",
        "  result5=bagging_reg(X_train,y_train,X_test,y_test)\n",
        "  #ADABOOST\n",
        "  result6=adaboost_reg(X_train,y_train,X_test,y_test)\n",
        "  #XGBOOST\n",
        "  result7=xgboost_reg(X_train,y_train,X_test,y_test)\n",
        "  #SGDRegressor\n",
        "  result8=sgd_reg(X_train,y_train,X_test,y_test)\n",
        "  #EXTRA_TREES\n",
        "  result9=extra_trees_reg(X_train,y_train,X_test,y_test)\n",
        "  #GRADIENT BOOSTING\n",
        "  result10=gradientB_reg(X_train,y_train,X_test,y_test)\n",
        "  print('LINEAR: ',result,'\\n','RIDGE: ',result1,'\\n','LASSO:',result2,'\\n','KNN: ',result3,'\\n',\n",
        "        'RANDOMFOREST:',result4,'\\n','BAGGING:',result5,'\\n','ADABOOST:',result6,'\\n','XGBOOST:',result7,'\\n','SGDReg:',result8,'\\n',\n",
        "        'EXTRA_TREES:',result9,'\\n','GRADIENT_BOOSTING',result10)"
      ],
      "execution_count": null,
      "outputs": []
    },
    {
      "cell_type": "code",
      "metadata": {
        "colab": {
          "base_uri": "https://localhost:8080/"
        },
        "id": "WttFqCaSgFj9",
        "outputId": "20afb1ae-15d1-4d2a-caf5-fb71f4c2355f"
      },
      "source": [
        "model(X,y,0.3)"
      ],
      "execution_count": null,
      "outputs": [
        {
          "output_type": "stream",
          "text": [
            "[15:52:00] WARNING: /workspace/src/objective/regression_obj.cu:152: reg:linear is now deprecated in favor of reg:squarederror.\n",
            "LINEAR:  0.09036163183001017 \n",
            " RIDGE:  0.0907822389367786 \n",
            " LASSO: 0.5300514694802575 \n",
            " KNN:  0.07404908749842304 \n",
            " RANDOMFOREST: 0.14112004239538312 \n",
            " BAGGING: 0.05927558577840416 \n",
            " ADABOOST: 0.09765654956957463 \n",
            " XGBOOST: 0.31410153701792015 \n",
            " SGDReg: 0.09110138798011704 \n",
            " EXTRA_TREES: 0.04265919862696081 \n",
            " GRADIENT_BOOSTING 0.05304784739645403\n"
          ],
          "name": "stdout"
        }
      ]
    },
    {
      "cell_type": "markdown",
      "metadata": {
        "id": "aLZhofyyyQ8w"
      },
      "source": [
        "ExtraTreesRegressor and Gradient Boosting has least mean square error. Therefore adopting these algorithms for further analysis."
      ]
    },
    {
      "cell_type": "code",
      "metadata": {
        "id": "ppL2zYob0ggr"
      },
      "source": [
        "#performace metric\n",
        "def metric(y_pred,y_test):\n",
        "  y_pred1=np.exp(y_pred)\n",
        "  y_test1=np.exp(y_test)\n",
        "  print('MSE_log      =',round(mean_squared_error(y_pred,y_test),3))\n",
        "  print('RMSE_log     =',round(np.sqrt(mean_squared_error(y_pred,y_test)),3))\n",
        "  print('MAE_log      =',round(mean_absolute_error(y_pred,y_test),3))\n",
        "  print('r2_score     =',round(r2_score(y_pred,y_test),4))\n",
        "  print('MSE_exp      =',round(mean_squared_error(y_pred1,y_test1),3))\n",
        "  print('RMSE_exp     =',round(np.sqrt(mean_squared_error(y_pred1,y_test1)),3))\n",
        "  print('MAE_exp      =',round(mean_absolute_error(y_pred1,y_test1),3))\n",
        "  print('r2_score_exp =',round(r2_score(y_pred1,y_test1),3))"
      ],
      "execution_count": null,
      "outputs": []
    },
    {
      "cell_type": "code",
      "metadata": {
        "colab": {
          "base_uri": "https://localhost:8080/"
        },
        "id": "mp9oSanZoHJN",
        "outputId": "fb75e4cc-a205-4b66-90df-395df616eb54"
      },
      "source": [
        "X_train,X_test,y_train,y_test=train_test_split(X,y,test_size=0.3,shuffle=True,random_state=12)\n",
        "y_pred=ExtraTreesRegressor().fit(X_train,y_train).predict(X_test)\n",
        "metric(y_pred,y_test)"
      ],
      "execution_count": null,
      "outputs": [
        {
          "output_type": "stream",
          "text": [
            "MSE_log      = 0.043\n",
            "RMSE_log     = 0.206\n",
            "MAE_log      = 0.137\n",
            "r2_score     = 0.9377\n",
            "MSE_exp      = 13391831948.89\n",
            "RMSE_exp     = 115723.083\n",
            "MAE_exp      = 60446.028\n",
            "r2_score_exp = 0.98\n"
          ],
          "name": "stdout"
        }
      ]
    },
    {
      "cell_type": "code",
      "metadata": {
        "colab": {
          "base_uri": "https://localhost:8080/"
        },
        "id": "QWHvQlf4mm9z",
        "outputId": "f08aa266-00ef-44d5-cb88-ebf10e07eba1"
      },
      "source": [
        "X_train,X_test,y_train,y_test=train_test_split(X,y,test_size=0.3,shuffle=True,random_state=12)\n",
        "y_pred=ExtraTreesRegressor().fit(X_train,y_train).predict(X_test)\n",
        "metric(y_pred,y_test)"
      ],
      "execution_count": null,
      "outputs": [
        {
          "output_type": "stream",
          "text": [
            "MSE_log      = 0.042\n",
            "RMSE_log     = 0.206\n",
            "MAE_log      = 0.136\n",
            "r2_score     = 0.9381\n",
            "MSE_exp      = 13533681535.938\n",
            "RMSE_exp     = 116334.352\n",
            "MAE_exp      = 60467.272\n",
            "r2_score_exp = 0.98\n"
          ],
          "name": "stdout"
        }
      ]
    },
    {
      "cell_type": "code",
      "metadata": {
        "colab": {
          "base_uri": "https://localhost:8080/"
        },
        "id": "kdt3Ja08oWQX",
        "outputId": "09e747f1-2113-4ed3-8d8e-55592cc16210"
      },
      "source": [
        "y_pred=GradientBoostingRegressor().fit(X_train,y_train).predict(X_test)\n",
        "metric(y_pred,y_test)"
      ],
      "execution_count": null,
      "outputs": [
        {
          "output_type": "stream",
          "text": [
            "MSE_log      = 0.053\n",
            "RMSE_log     = 0.23\n",
            "MAE_log      = 0.169\n",
            "r2_score     = 0.9195\n",
            "MSE_exp      = 36200363376.726\n",
            "RMSE_exp     = 190263.931\n",
            "MAE_exp      = 94525.228\n",
            "r2_score_exp = 0.942\n"
          ],
          "name": "stdout"
        }
      ]
    },
    {
      "cell_type": "code",
      "metadata": {
        "colab": {
          "base_uri": "https://localhost:8080/"
        },
        "id": "OEkf1nEKsAWf",
        "outputId": "2e4f4cb5-1a7e-4bf1-be6c-b8c609f6d084"
      },
      "source": [
        "y_pred=GradientBoostingRegressor().fit(X_train,y_train).predict(X_test)\n",
        "metric(y_pred,y_test)"
      ],
      "execution_count": null,
      "outputs": [
        {
          "output_type": "stream",
          "text": [
            "MSE_log      = 0.053\n",
            "RMSE_log     = 0.23\n",
            "MAE_log      = 0.169\n",
            "r2_score     = 0.9195\n",
            "MSE_exp      = 36450504378.488\n",
            "RMSE_exp     = 190920.152\n",
            "MAE_exp      = 94577.452\n",
            "r2_score_exp = 0.942\n"
          ],
          "name": "stdout"
        }
      ]
    },
    {
      "cell_type": "markdown",
      "metadata": {
        "id": "PgaaJBfD55rb"
      },
      "source": [
        "ExtraTreesRegression is performing better than GradientBoostingRegressor"
      ]
    },
    {
      "cell_type": "code",
      "metadata": {
        "colab": {
          "base_uri": "https://localhost:8080/",
          "height": 291
        },
        "id": "wLmQHs7tnnzX",
        "outputId": "a954d88c-7837-47b5-b166-84a0bbe55b5b"
      },
      "source": [
        "fig,ax=plt.subplots(1,2)\n",
        "sns.distplot((np.exp(y_test)-np.exp(y_pred)),ax=ax[0])\n",
        "plt.scatter(np.exp(y_test),np.exp(y_pred))\n",
        "fig.set_figwidth(15)\n",
        "fig.set_figheight(4)\n",
        "plt.show()"
      ],
      "execution_count": null,
      "outputs": [
        {
          "output_type": "display_data",
          "data": {
            "image/png": "[encoded data removed]",
            "text/plain": [
              "<Figure size 1080x288 with 2 Axes>"
            ]
          },
          "metadata": {
            "tags": [],
            "needs_background": "light"
          }
        }
      ]
    },
    {
      "cell_type": "code",
      "metadata": {
        "colab": {
          "base_uri": "https://localhost:8080/"
        },
        "id": "E9sxVUErur0U",
        "outputId": "0a2d8b94-12bc-43a6-8369-ef09d9da0a94"
      },
      "source": [
        "per=np.percentile(data2['selling_price'].values,[5,25,50,75,85,95,99])\n",
        "per"
      ],
      "execution_count": null,
      "outputs": [
        {
          "output_type": "execute_result",
          "data": {
            "text/plain": [
              "array([ 110000.,  254999.,  450000.,  675000.,  850000., 1950000.,\n",
              "       5200000.])"
            ]
          },
          "metadata": {
            "tags": []
          },
          "execution_count": 229
        }
      ]
    },
    {
      "cell_type": "code",
      "metadata": {
        "id": "DM0oPfl66Yfv"
      },
      "source": [
        "def vals(x):\n",
        "  if x<per[0]:\n",
        "    return 5\n",
        "  elif per[0]<=x<per[1]:\n",
        "    return 25\n",
        "  elif per[1]<=x<per[2]:\n",
        "    return 50\n",
        "  elif per[2]<=x<per[3]:\n",
        "    return 75\n",
        "  elif per[3]<=x<per[4]:\n",
        "    return 85\n",
        "  elif per[4]<=x<per[5]:\n",
        "    return 95\n",
        "  else:\n",
        "    return 99"
      ],
      "execution_count": null,
      "outputs": []
    },
    {
      "cell_type": "markdown",
      "metadata": {
        "id": "3KKMHwrYCLHl"
      },
      "source": [
        "Adding a percentile feature that classify selling price and also give weightage."
      ]
    },
    {
      "cell_type": "code",
      "metadata": {
        "id": "YDA8d3yCBWny"
      },
      "source": [
        "data2_scaled['percentile']=data2['selling_price'].apply(lambda x:vals(x))"
      ],
      "execution_count": null,
      "outputs": []
    },
    {
      "cell_type": "code",
      "metadata": {
        "colab": {
          "base_uri": "https://localhost:8080/",
          "height": 204
        },
        "id": "U7UTygPmBD58",
        "outputId": "1585b798-df9c-41be-9866-698ba2cf9dbe"
      },
      "source": [
        "data2_scaled.head()"
      ],
      "execution_count": null,
      "outputs": [
        {
          "output_type": "execute_result",
          "data": {
            "text/html": [
              "<div>\n",
              "<style scoped>\n",
              "    .dataframe tbody tr th:only-of-type {\n",
              "        vertical-align: middle;\n",
              "    }\n",
              "\n",
              "    .dataframe tbody tr th {\n",
              "        vertical-align: top;\n",
              "    }\n",
              "\n",
              "    .dataframe thead th {\n",
              "        text-align: right;\n",
              "    }\n",
              "</style>\n",
              "<table border=\"1\" class=\"dataframe\">\n",
              "  <thead>\n",
              "    <tr style=\"text-align: right;\">\n",
              "      <th></th>\n",
              "      <th>selling_price</th>\n",
              "      <th>km_driven</th>\n",
              "      <th>fuel</th>\n",
              "      <th>seller_type</th>\n",
              "      <th>transmission</th>\n",
              "      <th>owner</th>\n",
              "      <th>mileage</th>\n",
              "      <th>engine</th>\n",
              "      <th>max_power</th>\n",
              "      <th>seats</th>\n",
              "      <th>torque</th>\n",
              "      <th>years_old</th>\n",
              "      <th>percentile</th>\n",
              "    </tr>\n",
              "  </thead>\n",
              "  <tbody>\n",
              "    <tr>\n",
              "      <th>0</th>\n",
              "      <td>12.860999</td>\n",
              "      <td>1.186431</td>\n",
              "      <td>-0.953217</td>\n",
              "      <td>-0.437525</td>\n",
              "      <td>-0.385158</td>\n",
              "      <td>0.640081</td>\n",
              "      <td>-0.074804</td>\n",
              "      <td>-0.514652</td>\n",
              "      <td>-0.152674</td>\n",
              "      <td>-0.43237</td>\n",
              "      <td>-0.546375</td>\n",
              "      <td>0.198816</td>\n",
              "      <td>50</td>\n",
              "    </tr>\n",
              "    <tr>\n",
              "      <th>1</th>\n",
              "      <td>11.918391</td>\n",
              "      <td>0.268294</td>\n",
              "      <td>-0.953217</td>\n",
              "      <td>-0.437525</td>\n",
              "      <td>-0.385158</td>\n",
              "      <td>-2.148011</td>\n",
              "      <td>0.078209</td>\n",
              "      <td>-1.314519</td>\n",
              "      <td>-1.262564</td>\n",
              "      <td>-0.43237</td>\n",
              "      <td>-1.083659</td>\n",
              "      <td>1.682495</td>\n",
              "      <td>25</td>\n",
              "    </tr>\n",
              "    <tr>\n",
              "      <th>2</th>\n",
              "      <td>13.091902</td>\n",
              "      <td>0.153527</td>\n",
              "      <td>0.869782</td>\n",
              "      <td>2.421162</td>\n",
              "      <td>-0.385158</td>\n",
              "      <td>0.640081</td>\n",
              "      <td>0.121563</td>\n",
              "      <td>0.011943</td>\n",
              "      <td>-0.208871</td>\n",
              "      <td>-0.43237</td>\n",
              "      <td>0.342209</td>\n",
              "      <td>-0.295744</td>\n",
              "      <td>75</td>\n",
              "    </tr>\n",
              "    <tr>\n",
              "      <th>3</th>\n",
              "      <td>12.899220</td>\n",
              "      <td>0.038760</td>\n",
              "      <td>-0.953217</td>\n",
              "      <td>-0.437525</td>\n",
              "      <td>-0.385158</td>\n",
              "      <td>-0.753965</td>\n",
              "      <td>-0.074804</td>\n",
              "      <td>-0.514652</td>\n",
              "      <td>-0.152674</td>\n",
              "      <td>-0.43237</td>\n",
              "      <td>-0.546375</td>\n",
              "      <td>-0.048464</td>\n",
              "      <td>50</td>\n",
              "    </tr>\n",
              "    <tr>\n",
              "      <th>4</th>\n",
              "      <td>11.156251</td>\n",
              "      <td>-1.108912</td>\n",
              "      <td>0.869782</td>\n",
              "      <td>-0.437525</td>\n",
              "      <td>-0.385158</td>\n",
              "      <td>0.640081</td>\n",
              "      <td>-0.890877</td>\n",
              "      <td>0.143592</td>\n",
              "      <td>-0.961910</td>\n",
              "      <td>-0.43237</td>\n",
              "      <td>-0.732358</td>\n",
              "      <td>2.671615</td>\n",
              "      <td>5</td>\n",
              "    </tr>\n",
              "  </tbody>\n",
              "</table>\n",
              "</div>"
            ],
            "text/plain": [
              "   selling_price  km_driven      fuel  ...    torque  years_old  percentile\n",
              "0      12.860999   1.186431 -0.953217  ... -0.546375   0.198816          50\n",
              "1      11.918391   0.268294 -0.953217  ... -1.083659   1.682495          25\n",
              "2      13.091902   0.153527  0.869782  ...  0.342209  -0.295744          75\n",
              "3      12.899220   0.038760 -0.953217  ... -0.546375  -0.048464          50\n",
              "4      11.156251  -1.108912  0.869782  ... -0.732358   2.671615           5\n",
              "\n",
              "[5 rows x 13 columns]"
            ]
          },
          "metadata": {
            "tags": []
          },
          "execution_count": 232
        }
      ]
    },
    {
      "cell_type": "code",
      "metadata": {
        "id": "STHABzwUCAJ_"
      },
      "source": [
        "X=data2_scaled.drop('selling_price',axis=1)\n",
        "y=data2_scaled['selling_price']\n",
        "X_train,X_test,y_train,y_test=train_test_split(X,y,test_size=0.3,shuffle=True,random_state=12)"
      ],
      "execution_count": null,
      "outputs": []
    },
    {
      "cell_type": "code",
      "metadata": {
        "colab": {
          "base_uri": "https://localhost:8080/"
        },
        "id": "CxjwpDfaCf7L",
        "outputId": "f7172c38-c234-48c6-bfcc-93338c12104a"
      },
      "source": [
        "y_pred=ExtraTreesRegressor().fit(X_train,y_train).predict(X_test)\n",
        "metric(y_pred,y_test)"
      ],
      "execution_count": null,
      "outputs": [
        {
          "output_type": "stream",
          "text": [
            "MSE_log      = 0.018\n",
            "RMSE_log     = 0.135\n",
            "MAE_log      = 0.09\n",
            "r2_score     = 0.9745\n",
            "MSE_exp      = 8150411236.171\n",
            "RMSE_exp     = 90279.628\n",
            "MAE_exp      = 41515.517\n",
            "r2_score_exp = 0.988\n"
          ],
          "name": "stdout"
        }
      ]
    },
    {
      "cell_type": "code",
      "metadata": {
        "id": "JBJcLVEPCr8I"
      },
      "source": [
        "scaled=StandardScaler().fit_transform(data2[['km_driven','mileage','engine','max_power','seats','torque','years_old','fuel','seller_type','transmission','owner']])\n",
        "data2_scaled_mm=data2.copy()\n",
        "data2_scaled_mm[['km_driven','mileage','engine','max_power','seats','torque','years_old','fuel','seller_type','transmission','owner']]=scaled"
      ],
      "execution_count": null,
      "outputs": []
    },
    {
      "cell_type": "code",
      "metadata": {
        "id": "oyS6NBQvDsiR"
      },
      "source": [
        "data2_scaled_mm['selling_price']=np.log(data2_scaled_mm['selling_price'])\n",
        "data2_scaled_mm['percentile']=data2['selling_price'].apply(lambda x:vals(x))\n",
        "data2_scaled_mm['percentile']=StandardScaler().fit_transform(data2_scaled_mm['percentile'].values.reshape(-1,1))"
      ],
      "execution_count": null,
      "outputs": []
    },
    {
      "cell_type": "code",
      "metadata": {
        "colab": {
          "base_uri": "https://localhost:8080/",
          "height": 204
        },
        "id": "sqS2QrOQEKj8",
        "outputId": "b90b602f-4e01-495d-a89a-dcb1a61e9d80"
      },
      "source": [
        "data2_scaled_mm.head()"
      ],
      "execution_count": null,
      "outputs": [
        {
          "output_type": "execute_result",
          "data": {
            "text/html": [
              "<div>\n",
              "<style scoped>\n",
              "    .dataframe tbody tr th:only-of-type {\n",
              "        vertical-align: middle;\n",
              "    }\n",
              "\n",
              "    .dataframe tbody tr th {\n",
              "        vertical-align: top;\n",
              "    }\n",
              "\n",
              "    .dataframe thead th {\n",
              "        text-align: right;\n",
              "    }\n",
              "</style>\n",
              "<table border=\"1\" class=\"dataframe\">\n",
              "  <thead>\n",
              "    <tr style=\"text-align: right;\">\n",
              "      <th></th>\n",
              "      <th>selling_price</th>\n",
              "      <th>km_driven</th>\n",
              "      <th>fuel</th>\n",
              "      <th>seller_type</th>\n",
              "      <th>transmission</th>\n",
              "      <th>owner</th>\n",
              "      <th>mileage</th>\n",
              "      <th>engine</th>\n",
              "      <th>max_power</th>\n",
              "      <th>seats</th>\n",
              "      <th>torque</th>\n",
              "      <th>years_old</th>\n",
              "      <th>percentile</th>\n",
              "    </tr>\n",
              "  </thead>\n",
              "  <tbody>\n",
              "    <tr>\n",
              "      <th>0</th>\n",
              "      <td>12.860999</td>\n",
              "      <td>1.186431</td>\n",
              "      <td>-0.953217</td>\n",
              "      <td>-0.437525</td>\n",
              "      <td>-0.385158</td>\n",
              "      <td>0.640081</td>\n",
              "      <td>-0.074804</td>\n",
              "      <td>-0.514652</td>\n",
              "      <td>-0.152674</td>\n",
              "      <td>-0.43237</td>\n",
              "      <td>-0.546375</td>\n",
              "      <td>0.198816</td>\n",
              "      <td>-0.359176</td>\n",
              "    </tr>\n",
              "    <tr>\n",
              "      <th>1</th>\n",
              "      <td>11.918391</td>\n",
              "      <td>0.268294</td>\n",
              "      <td>-0.953217</td>\n",
              "      <td>-0.437525</td>\n",
              "      <td>-0.385158</td>\n",
              "      <td>-2.148011</td>\n",
              "      <td>0.078209</td>\n",
              "      <td>-1.314519</td>\n",
              "      <td>-1.262564</td>\n",
              "      <td>-0.43237</td>\n",
              "      <td>-1.083659</td>\n",
              "      <td>1.682495</td>\n",
              "      <td>-1.279514</td>\n",
              "    </tr>\n",
              "    <tr>\n",
              "      <th>2</th>\n",
              "      <td>13.091902</td>\n",
              "      <td>0.153527</td>\n",
              "      <td>0.869782</td>\n",
              "      <td>2.421162</td>\n",
              "      <td>-0.385158</td>\n",
              "      <td>0.640081</td>\n",
              "      <td>0.121563</td>\n",
              "      <td>0.011943</td>\n",
              "      <td>-0.208871</td>\n",
              "      <td>-0.43237</td>\n",
              "      <td>0.342209</td>\n",
              "      <td>-0.295744</td>\n",
              "      <td>0.561161</td>\n",
              "    </tr>\n",
              "    <tr>\n",
              "      <th>3</th>\n",
              "      <td>12.899220</td>\n",
              "      <td>0.038760</td>\n",
              "      <td>-0.953217</td>\n",
              "      <td>-0.437525</td>\n",
              "      <td>-0.385158</td>\n",
              "      <td>-0.753965</td>\n",
              "      <td>-0.074804</td>\n",
              "      <td>-0.514652</td>\n",
              "      <td>-0.152674</td>\n",
              "      <td>-0.43237</td>\n",
              "      <td>-0.546375</td>\n",
              "      <td>-0.048464</td>\n",
              "      <td>-0.359176</td>\n",
              "    </tr>\n",
              "    <tr>\n",
              "      <th>4</th>\n",
              "      <td>11.156251</td>\n",
              "      <td>-1.108912</td>\n",
              "      <td>0.869782</td>\n",
              "      <td>-0.437525</td>\n",
              "      <td>-0.385158</td>\n",
              "      <td>0.640081</td>\n",
              "      <td>-0.890877</td>\n",
              "      <td>0.143592</td>\n",
              "      <td>-0.961910</td>\n",
              "      <td>-0.43237</td>\n",
              "      <td>-0.732358</td>\n",
              "      <td>2.671615</td>\n",
              "      <td>-2.015784</td>\n",
              "    </tr>\n",
              "  </tbody>\n",
              "</table>\n",
              "</div>"
            ],
            "text/plain": [
              "   selling_price  km_driven      fuel  ...    torque  years_old  percentile\n",
              "0      12.860999   1.186431 -0.953217  ... -0.546375   0.198816   -0.359176\n",
              "1      11.918391   0.268294 -0.953217  ... -1.083659   1.682495   -1.279514\n",
              "2      13.091902   0.153527  0.869782  ...  0.342209  -0.295744    0.561161\n",
              "3      12.899220   0.038760 -0.953217  ... -0.546375  -0.048464   -0.359176\n",
              "4      11.156251  -1.108912  0.869782  ... -0.732358   2.671615   -2.015784\n",
              "\n",
              "[5 rows x 13 columns]"
            ]
          },
          "metadata": {
            "tags": []
          },
          "execution_count": 237
        }
      ]
    },
    {
      "cell_type": "markdown",
      "metadata": {
        "id": "lmaL2h0lBs2i"
      },
      "source": [
        "#### **FINAL MODEL**"
      ]
    },
    {
      "cell_type": "code",
      "metadata": {
        "colab": {
          "base_uri": "https://localhost:8080/"
        },
        "id": "7Vafr4roEl4O",
        "outputId": "7988b53d-4814-4daf-d3d6-b3ba452d2ebe"
      },
      "source": [
        "X=data2_scaled_mm.drop('selling_price',axis=1)\n",
        "y=data2_scaled_mm['selling_price']\n",
        "X_train,X_test,y_train,y_test=train_test_split(X,y,test_size=0.3,shuffle=True,random_state=12)\n",
        "y_pred=ExtraTreesRegressor().fit(X_train,y_train).predict(X_test)\n",
        "metric(y_pred,y_test)"
      ],
      "execution_count": null,
      "outputs": [
        {
          "output_type": "stream",
          "text": [
            "MSE_log      = 0.018\n",
            "RMSE_log     = 0.134\n",
            "MAE_log      = 0.09\n",
            "r2_score     = 0.9746\n",
            "MSE_exp      = 9035183902.002\n",
            "RMSE_exp     = 95053.584\n",
            "MAE_exp      = 41713.571\n",
            "r2_score_exp = 0.987\n"
          ],
          "name": "stdout"
        }
      ]
    },
    {
      "cell_type": "code",
      "metadata": {
        "colab": {
          "base_uri": "https://localhost:8080/"
        },
        "id": "5zHy0tzWRQ0p",
        "outputId": "1d035d79-04f5-42b2-edef-bde3ec33c222"
      },
      "source": [
        "model=ExtraTreesRegressor()\n",
        "model.fit(X_train,y_train)\n",
        "y_pred=model.predict(X_test)\n",
        "metric(y_pred,y_test)"
      ],
      "execution_count": null,
      "outputs": [
        {
          "output_type": "stream",
          "text": [
            "MSE_log      = 0.018\n",
            "RMSE_log     = 0.134\n",
            "MAE_log      = 0.09\n",
            "r2_score     = 0.9748\n",
            "MSE_exp      = 8157591629.976\n",
            "RMSE_exp     = 90319.387\n",
            "MAE_exp      = 41285.439\n",
            "r2_score_exp = 0.988\n"
          ],
          "name": "stdout"
        }
      ]
    },
    {
      "cell_type": "code",
      "metadata": {
        "colab": {
          "base_uri": "https://localhost:8080/"
        },
        "id": "ojdLPX8gwcYb",
        "outputId": "a85556ae-ea86-47bd-8fa5-e5703276683d"
      },
      "source": [
        "X=data2_scaled_mm.drop('selling_price',axis=1)\n",
        "y=data2_scaled_mm['selling_price']\n",
        "X_train,X_test,y_train,y_test=train_test_split(X,y,test_size=0.3,shuffle=True,random_state=12)\n",
        "y_pred=ExtraTreesRegressor(n_estimators=60, n_jobs=4, min_samples_split=9,\n",
        "                            min_samples_leaf=10).fit(X_train,y_train).predict(X_test)\n",
        "metric(y_pred,y_test)"
      ],
      "execution_count": null,
      "outputs": [
        {
          "output_type": "stream",
          "text": [
            "MSE_log      = 0.018\n",
            "RMSE_log     = 0.136\n",
            "MAE_log      = 0.101\n",
            "r2_score     = 0.9737\n",
            "MSE_exp      = 16654039096.88\n",
            "RMSE_exp     = 129050.529\n",
            "MAE_exp      = 55741.373\n",
            "r2_score_exp = 0.974\n"
          ],
          "name": "stdout"
        }
      ]
    },
    {
      "cell_type": "code",
      "metadata": {
        "id": "LxeTdO5gHY0r"
      },
      "source": [
        "from xgboost import XGBRegressor"
      ],
      "execution_count": null,
      "outputs": []
    },
    {
      "cell_type": "code",
      "metadata": {
        "colab": {
          "base_uri": "https://localhost:8080/"
        },
        "id": "QSEvdL9FtsdM",
        "outputId": "313ef0d9-d7c6-4a04-ad88-52fb9acb11f2"
      },
      "source": [
        "xgb=XGBRegressor()\n",
        "xgb.fit(X_train,y_train)\n",
        "y_pred=xgb.predict(X_test)\n",
        "metric(y_pred,y_test)"
      ],
      "execution_count": null,
      "outputs": [
        {
          "output_type": "stream",
          "text": [
            "[15:52:12] WARNING: /workspace/src/objective/regression_obj.cu:152: reg:linear is now deprecated in favor of reg:squarederror.\n",
            "MSE_log      = 0.02\n",
            "RMSE_log     = 0.142\n",
            "MAE_log      = 0.111\n",
            "r2_score     = 0.9713\n",
            "MSE_exp      = 18168476823.344\n",
            "RMSE_exp     = 134790.492\n",
            "MAE_exp      = 65648.62\n",
            "r2_score_exp = 0.972\n"
          ],
          "name": "stdout"
        }
      ]
    },
    {
      "cell_type": "code",
      "metadata": {
        "id": "DPJdt8KWOSsX"
      },
      "source": [
        "temp=pd.DataFrame()\n",
        "temp['actual']=np.exp(y_test)\n",
        "temp['predict']=np.exp(y_pred)\n",
        "temp['diff']=round((np.exp(y_test)-np.exp(y_pred))*100/np.exp(y_test),2)"
      ],
      "execution_count": null,
      "outputs": []
    },
    {
      "cell_type": "code",
      "metadata": {
        "id": "PHMEf6GQOiWI"
      },
      "source": [
        "x=temp.head(20)"
      ],
      "execution_count": null,
      "outputs": []
    },
    {
      "cell_type": "code",
      "metadata": {
        "colab": {
          "base_uri": "https://localhost:8080/",
          "height": 309
        },
        "id": "T6kmiBW8OjeG",
        "outputId": "80072583-9133-4ee1-ea43-290585ebb1c5"
      },
      "source": [
        "x.plot(kind='bar',figsize=(20,4))"
      ],
      "execution_count": null,
      "outputs": [
        {
          "output_type": "execute_result",
          "data": {
            "text/plain": [
              "<matplotlib.axes._subplots.AxesSubplot at 0x7f6f8ccc5bd0>"
            ]
          },
          "metadata": {
            "tags": []
          },
          "execution_count": 245
        },
        {
          "output_type": "display_data",
          "data": {
            "image/png": "[encoded data removed]",
            "text/plain": [
              "<Figure size 1440x288 with 1 Axes>"
            ]
          },
          "metadata": {
            "tags": [],
            "needs_background": "light"
          }
        }
      ]
    },
    {
      "cell_type": "code",
      "metadata": {
        "colab": {
          "base_uri": "https://localhost:8080/",
          "height": 261
        },
        "id": "L37yMaV0O3rj",
        "outputId": "9ddc3e9f-cfd9-421b-8dd3-ad68934bc47d"
      },
      "source": [
        "x1=temp.sort_values(by='diff',ascending=False)\n",
        "x2=x1[['actual','predict']].head(50)\n",
        "x2.plot(kind='bar',figsize=(20,4))"
      ],
      "execution_count": null,
      "outputs": [
        {
          "output_type": "execute_result",
          "data": {
            "text/plain": [
              "<matplotlib.axes._subplots.AxesSubplot at 0x7f6f8ecce550>"
            ]
          },
          "metadata": {
            "tags": []
          },
          "execution_count": 246
        },
        {
          "output_type": "display_data",
          "data": {
            "image/png": "[encoded data removed]",
            "text/plain": [
              "<Figure size 1440x288 with 1 Axes>"
            ]
          },
          "metadata": {
            "tags": [],
            "needs_background": "light"
          }
        }
      ]
    },
    {
      "cell_type": "code",
      "metadata": {
        "id": "FPw08_sF5lTh"
      },
      "source": [
        "import pickle\n",
        "file = open(\"file.pkl\", \"wb\") # opening a new file in write mode\n",
        "pickle.dump(model, file) # dumping created model into a pickle file"
      ],
      "execution_count": null,
      "outputs": []
    },
    {
      "cell_type": "code",
      "metadata": {
        "colab": {
          "base_uri": "https://localhost:8080/"
        },
        "id": "fpJ4kbl_RDH4",
        "outputId": "c32100a1-f965-41d1-e1c8-504264406391"
      },
      "source": [
        "pickle.load(open('file.pkl','rb'))"
      ],
      "execution_count": null,
      "outputs": [
        {
          "output_type": "execute_result",
          "data": {
            "text/plain": [
              "ExtraTreesRegressor(bootstrap=False, ccp_alpha=0.0, criterion='mse',\n",
              "                    max_depth=None, max_features='auto', max_leaf_nodes=None,\n",
              "                    max_samples=None, min_impurity_decrease=0.0,\n",
              "                    min_impurity_split=None, min_samples_leaf=1,\n",
              "                    min_samples_split=2, min_weight_fraction_leaf=0.0,\n",
              "                    n_estimators=100, n_jobs=None, oob_score=False,\n",
              "                    random_state=None, verbose=0, warm_start=False)"
            ]
          },
          "metadata": {
            "tags": []
          },
          "execution_count": 251
        }
      ]
    },
    {
      "cell_type": "code",
      "metadata": {
        "id": "I2uFYBniV2nv"
      },
      "source": [
        "import joblib"
      ],
      "execution_count": null,
      "outputs": []
    },
    {
      "cell_type": "code",
      "metadata": {
        "colab": {
          "base_uri": "https://localhost:8080/"
        },
        "id": "_FWva7i5nlYX",
        "outputId": "196d08dc-9b37-490e-c117-5ecc1755418e"
      },
      "source": [
        "joblib.dump(model,'car_model.pkl')"
      ],
      "execution_count": null,
      "outputs": [
        {
          "output_type": "execute_result",
          "data": {
            "text/plain": [
              "['car_model.pkl']"
            ]
          },
          "metadata": {
            "tags": []
          },
          "execution_count": 253
        }
      ]
    },
    {
      "cell_type": "markdown",
      "metadata": {
        "id": "oxYZA1tTnhOR"
      },
      "source": [
        "### **SUMMARY**:\n",
        "Finally, after testing various models the ExtraTreesRegressor and XGBRegressor, with little hypertuning, performed well.The R2 score of both the models comes out to be **0.97**.\n",
        "\n",
        "### **Future scope**:\n",
        "The dataset lacks **Actual price** column, presence of which could improve the performance and reliability of the model significantly.Since, we all know that the moment car comes out of a showroom, its price starts to depreciate.Perhaps, we could use this factor in determining the current worth of a car.\n"
      ]
    },
    {
      "cell_type": "code",
      "metadata": {
        "id": "hKn_Wi5Sn2Uq"
      },
      "source": [
        ""
      ],
      "execution_count": null,
      "outputs": []
    }
  ]
}